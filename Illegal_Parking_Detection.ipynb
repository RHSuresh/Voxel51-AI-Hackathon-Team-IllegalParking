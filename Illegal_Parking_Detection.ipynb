{
  "cells": [
    {
      "cell_type": "code",
      "execution_count": 2,
      "metadata": {
        "colab": {
          "base_uri": "https://localhost:8080/"
        },
        "id": "ZP3Dv1PFwqNy",
        "outputId": "5a0b960e-c1f5-4051-d508-04612cc7927b"
      },
      "outputs": [
        {
          "name": "stdout",
          "output_type": "stream",
          "text": [
            "Requirement already satisfied: fiftyone in ./env1/lib/python3.11/site-packages (1.3.1)\n",
            "Requirement already satisfied: aiofiles in ./env1/lib/python3.11/site-packages (from fiftyone) (24.1.0)\n",
            "Requirement already satisfied: argcomplete in ./env1/lib/python3.11/site-packages (from fiftyone) (3.6.0)\n",
            "Requirement already satisfied: beautifulsoup4 in ./env1/lib/python3.11/site-packages (from fiftyone) (4.13.3)\n",
            "Requirement already satisfied: boto3 in ./env1/lib/python3.11/site-packages (from fiftyone) (1.37.9)\n",
            "Requirement already satisfied: cachetools in ./env1/lib/python3.11/site-packages (from fiftyone) (5.5.2)\n",
            "Requirement already satisfied: dacite<1.8.0,>=1.6.0 in ./env1/lib/python3.11/site-packages (from fiftyone) (1.7.0)\n",
            "Requirement already satisfied: Deprecated in ./env1/lib/python3.11/site-packages (from fiftyone) (1.2.18)\n",
            "Requirement already satisfied: ftfy in ./env1/lib/python3.11/site-packages (from fiftyone) (6.3.1)\n",
            "Requirement already satisfied: humanize in ./env1/lib/python3.11/site-packages (from fiftyone) (4.12.1)\n",
            "Requirement already satisfied: hypercorn>=0.13.2 in ./env1/lib/python3.11/site-packages (from fiftyone) (0.17.3)\n",
            "Requirement already satisfied: Jinja2>=3 in ./env1/lib/python3.11/site-packages (from fiftyone) (3.1.6)\n",
            "Requirement already satisfied: kaleido!=0.2.1.post1 in ./env1/lib/python3.11/site-packages (from fiftyone) (0.2.1)\n",
            "Requirement already satisfied: matplotlib in ./env1/lib/python3.11/site-packages (from fiftyone) (3.10.1)\n",
            "Requirement already satisfied: mongoengine~=0.29.1 in ./env1/lib/python3.11/site-packages (from fiftyone) (0.29.1)\n",
            "Requirement already satisfied: motor~=3.6.0 in ./env1/lib/python3.11/site-packages (from fiftyone) (3.6.1)\n",
            "Requirement already satisfied: numpy in ./env1/lib/python3.11/site-packages (from fiftyone) (2.2.3)\n",
            "Requirement already satisfied: packaging in ./env1/lib/python3.11/site-packages (from fiftyone) (24.2)\n",
            "Requirement already satisfied: pandas in ./env1/lib/python3.11/site-packages (from fiftyone) (2.2.3)\n",
            "Requirement already satisfied: Pillow>=6.2 in ./env1/lib/python3.11/site-packages (from fiftyone) (11.1.0)\n",
            "Requirement already satisfied: plotly>=4.14 in ./env1/lib/python3.11/site-packages (from fiftyone) (6.0.0)\n",
            "Requirement already satisfied: pprintpp in ./env1/lib/python3.11/site-packages (from fiftyone) (0.4.0)\n",
            "Requirement already satisfied: psutil in ./env1/lib/python3.11/site-packages (from fiftyone) (7.0.0)\n",
            "Requirement already satisfied: pymongo~=4.9.2 in ./env1/lib/python3.11/site-packages (from fiftyone) (4.9.2)\n",
            "Requirement already satisfied: pytz in ./env1/lib/python3.11/site-packages (from fiftyone) (2025.1)\n",
            "Requirement already satisfied: PyYAML in ./env1/lib/python3.11/site-packages (from fiftyone) (6.0.2)\n",
            "Requirement already satisfied: regex in ./env1/lib/python3.11/site-packages (from fiftyone) (2024.11.6)\n",
            "Requirement already satisfied: retrying in ./env1/lib/python3.11/site-packages (from fiftyone) (1.3.4)\n",
            "Requirement already satisfied: rtree in ./env1/lib/python3.11/site-packages (from fiftyone) (1.4.0)\n",
            "Requirement already satisfied: scikit-learn in ./env1/lib/python3.11/site-packages (from fiftyone) (1.6.1)\n",
            "Requirement already satisfied: scikit-image in ./env1/lib/python3.11/site-packages (from fiftyone) (0.25.2)\n",
            "Requirement already satisfied: scipy in ./env1/lib/python3.11/site-packages (from fiftyone) (1.15.2)\n",
            "Requirement already satisfied: setuptools in ./env1/lib/python3.11/site-packages (from fiftyone) (65.5.0)\n",
            "Requirement already satisfied: sseclient-py<2,>=1.7.2 in ./env1/lib/python3.11/site-packages (from fiftyone) (1.8.0)\n",
            "Requirement already satisfied: sse-starlette<1,>=0.10.3 in ./env1/lib/python3.11/site-packages (from fiftyone) (0.10.3)\n",
            "Requirement already satisfied: starlette>=0.24.0 in ./env1/lib/python3.11/site-packages (from fiftyone) (0.46.1)\n",
            "Requirement already satisfied: strawberry-graphql in ./env1/lib/python3.11/site-packages (from fiftyone) (0.262.1)\n",
            "Requirement already satisfied: tabulate in ./env1/lib/python3.11/site-packages (from fiftyone) (0.9.0)\n",
            "Requirement already satisfied: xmltodict in ./env1/lib/python3.11/site-packages (from fiftyone) (0.14.2)\n",
            "Requirement already satisfied: universal-analytics-python3<2,>=1.0.1 in ./env1/lib/python3.11/site-packages (from fiftyone) (1.1.1)\n",
            "Requirement already satisfied: pydash in ./env1/lib/python3.11/site-packages (from fiftyone) (8.0.5)\n",
            "Requirement already satisfied: fiftyone-brain<0.20,>=0.19.0 in ./env1/lib/python3.11/site-packages (from fiftyone) (0.19.0)\n",
            "Requirement already satisfied: fiftyone-db<2.0,>=0.4 in ./env1/lib/python3.11/site-packages (from fiftyone) (1.1.7)\n",
            "Requirement already satisfied: voxel51-eta<0.15,>=0.14.0 in ./env1/lib/python3.11/site-packages (from fiftyone) (0.14.0)\n",
            "Requirement already satisfied: opencv-python-headless in ./env1/lib/python3.11/site-packages (from fiftyone) (4.11.0.86)\n",
            "Requirement already satisfied: h11 in ./env1/lib/python3.11/site-packages (from hypercorn>=0.13.2->fiftyone) (0.14.0)\n",
            "Requirement already satisfied: h2>=3.1.0 in ./env1/lib/python3.11/site-packages (from hypercorn>=0.13.2->fiftyone) (4.2.0)\n",
            "Requirement already satisfied: priority in ./env1/lib/python3.11/site-packages (from hypercorn>=0.13.2->fiftyone) (2.0.0)\n",
            "Requirement already satisfied: wsproto>=0.14.0 in ./env1/lib/python3.11/site-packages (from hypercorn>=0.13.2->fiftyone) (1.2.0)\n",
            "Requirement already satisfied: MarkupSafe>=2.0 in ./env1/lib/python3.11/site-packages (from Jinja2>=3->fiftyone) (3.0.2)\n",
            "Requirement already satisfied: narwhals>=1.15.1 in ./env1/lib/python3.11/site-packages (from plotly>=4.14->fiftyone) (1.29.1)\n",
            "Requirement already satisfied: dnspython<3.0.0,>=1.16.0 in ./env1/lib/python3.11/site-packages (from pymongo~=4.9.2->fiftyone) (2.7.0)\n",
            "Requirement already satisfied: anyio<5,>=3.6.2 in ./env1/lib/python3.11/site-packages (from starlette>=0.24.0->fiftyone) (4.8.0)\n",
            "Requirement already satisfied: httpx>=0.10.0 in ./env1/lib/python3.11/site-packages (from universal-analytics-python3<2,>=1.0.1->fiftyone) (0.28.1)\n",
            "Requirement already satisfied: dill in ./env1/lib/python3.11/site-packages (from voxel51-eta<0.15,>=0.14.0->fiftyone) (0.3.9)\n",
            "Requirement already satisfied: future in ./env1/lib/python3.11/site-packages (from voxel51-eta<0.15,>=0.14.0->fiftyone) (1.0.0)\n",
            "Requirement already satisfied: glob2 in ./env1/lib/python3.11/site-packages (from voxel51-eta<0.15,>=0.14.0->fiftyone) (0.7)\n",
            "Requirement already satisfied: jsonlines in ./env1/lib/python3.11/site-packages (from voxel51-eta<0.15,>=0.14.0->fiftyone) (4.0.0)\n",
            "Requirement already satisfied: py7zr in ./env1/lib/python3.11/site-packages (from voxel51-eta<0.15,>=0.14.0->fiftyone) (0.22.0)\n",
            "Requirement already satisfied: python-dateutil in ./env1/lib/python3.11/site-packages (from voxel51-eta<0.15,>=0.14.0->fiftyone) (2.9.0.post0)\n",
            "Requirement already satisfied: rarfile in ./env1/lib/python3.11/site-packages (from voxel51-eta<0.15,>=0.14.0->fiftyone) (4.2)\n",
            "Requirement already satisfied: requests in ./env1/lib/python3.11/site-packages (from voxel51-eta<0.15,>=0.14.0->fiftyone) (2.32.3)\n",
            "Requirement already satisfied: six in ./env1/lib/python3.11/site-packages (from voxel51-eta<0.15,>=0.14.0->fiftyone) (1.17.0)\n",
            "Requirement already satisfied: sortedcontainers in ./env1/lib/python3.11/site-packages (from voxel51-eta<0.15,>=0.14.0->fiftyone) (2.4.0)\n",
            "Requirement already satisfied: tzlocal in ./env1/lib/python3.11/site-packages (from voxel51-eta<0.15,>=0.14.0->fiftyone) (5.3.1)\n",
            "Requirement already satisfied: urllib3 in ./env1/lib/python3.11/site-packages (from voxel51-eta<0.15,>=0.14.0->fiftyone) (2.3.0)\n",
            "Requirement already satisfied: soupsieve>1.2 in ./env1/lib/python3.11/site-packages (from beautifulsoup4->fiftyone) (2.6)\n",
            "Requirement already satisfied: typing-extensions>=4.0.0 in ./env1/lib/python3.11/site-packages (from beautifulsoup4->fiftyone) (4.12.2)\n",
            "Requirement already satisfied: botocore<1.38.0,>=1.37.9 in ./env1/lib/python3.11/site-packages (from boto3->fiftyone) (1.37.9)\n",
            "Requirement already satisfied: jmespath<2.0.0,>=0.7.1 in ./env1/lib/python3.11/site-packages (from boto3->fiftyone) (1.0.1)\n",
            "Requirement already satisfied: s3transfer<0.12.0,>=0.11.0 in ./env1/lib/python3.11/site-packages (from boto3->fiftyone) (0.11.4)\n",
            "Requirement already satisfied: wrapt<2,>=1.10 in ./env1/lib/python3.11/site-packages (from Deprecated->fiftyone) (1.17.2)\n",
            "Requirement already satisfied: wcwidth in ./env1/lib/python3.11/site-packages (from ftfy->fiftyone) (0.2.13)\n",
            "Requirement already satisfied: contourpy>=1.0.1 in ./env1/lib/python3.11/site-packages (from matplotlib->fiftyone) (1.3.1)\n",
            "Requirement already satisfied: cycler>=0.10 in ./env1/lib/python3.11/site-packages (from matplotlib->fiftyone) (0.12.1)\n",
            "Requirement already satisfied: fonttools>=4.22.0 in ./env1/lib/python3.11/site-packages (from matplotlib->fiftyone) (4.56.0)\n",
            "Requirement already satisfied: kiwisolver>=1.3.1 in ./env1/lib/python3.11/site-packages (from matplotlib->fiftyone) (1.4.8)\n",
            "Requirement already satisfied: pyparsing>=2.3.1 in ./env1/lib/python3.11/site-packages (from matplotlib->fiftyone) (3.2.1)\n",
            "Requirement already satisfied: tzdata>=2022.7 in ./env1/lib/python3.11/site-packages (from pandas->fiftyone) (2025.1)\n",
            "Requirement already satisfied: networkx>=3.0 in ./env1/lib/python3.11/site-packages (from scikit-image->fiftyone) (3.4.2)\n",
            "Requirement already satisfied: imageio!=2.35.0,>=2.33 in ./env1/lib/python3.11/site-packages (from scikit-image->fiftyone) (2.37.0)\n",
            "Requirement already satisfied: tifffile>=2022.8.12 in ./env1/lib/python3.11/site-packages (from scikit-image->fiftyone) (2025.2.18)\n",
            "Requirement already satisfied: lazy-loader>=0.4 in ./env1/lib/python3.11/site-packages (from scikit-image->fiftyone) (0.4)\n",
            "Requirement already satisfied: joblib>=1.2.0 in ./env1/lib/python3.11/site-packages (from scikit-learn->fiftyone) (1.4.2)\n",
            "Requirement already satisfied: threadpoolctl>=3.1.0 in ./env1/lib/python3.11/site-packages (from scikit-learn->fiftyone) (3.5.0)\n",
            "Requirement already satisfied: graphql-core<3.4.0,>=3.2.0 in ./env1/lib/python3.11/site-packages (from strawberry-graphql->fiftyone) (3.2.6)\n",
            "Requirement already satisfied: idna>=2.8 in ./env1/lib/python3.11/site-packages (from anyio<5,>=3.6.2->starlette>=0.24.0->fiftyone) (3.10)\n",
            "Requirement already satisfied: sniffio>=1.1 in ./env1/lib/python3.11/site-packages (from anyio<5,>=3.6.2->starlette>=0.24.0->fiftyone) (1.3.1)\n",
            "Requirement already satisfied: hyperframe<7,>=6.1 in ./env1/lib/python3.11/site-packages (from h2>=3.1.0->hypercorn>=0.13.2->fiftyone) (6.1.0)\n",
            "Requirement already satisfied: hpack<5,>=4.1 in ./env1/lib/python3.11/site-packages (from h2>=3.1.0->hypercorn>=0.13.2->fiftyone) (4.1.0)\n",
            "Requirement already satisfied: certifi in ./env1/lib/python3.11/site-packages (from httpx>=0.10.0->universal-analytics-python3<2,>=1.0.1->fiftyone) (2025.1.31)\n",
            "Requirement already satisfied: httpcore==1.* in ./env1/lib/python3.11/site-packages (from httpx>=0.10.0->universal-analytics-python3<2,>=1.0.1->fiftyone) (1.0.7)\n",
            "Requirement already satisfied: attrs>=19.2.0 in ./env1/lib/python3.11/site-packages (from jsonlines->voxel51-eta<0.15,>=0.14.0->fiftyone) (25.1.0)\n",
            "Requirement already satisfied: texttable in ./env1/lib/python3.11/site-packages (from py7zr->voxel51-eta<0.15,>=0.14.0->fiftyone) (1.7.0)\n",
            "Requirement already satisfied: pycryptodomex>=3.16.0 in ./env1/lib/python3.11/site-packages (from py7zr->voxel51-eta<0.15,>=0.14.0->fiftyone) (3.21.0)\n",
            "Requirement already satisfied: pyzstd>=0.15.9 in ./env1/lib/python3.11/site-packages (from py7zr->voxel51-eta<0.15,>=0.14.0->fiftyone) (0.16.2)\n",
            "Requirement already satisfied: pyppmd<1.2.0,>=1.1.0 in ./env1/lib/python3.11/site-packages (from py7zr->voxel51-eta<0.15,>=0.14.0->fiftyone) (1.1.1)\n",
            "Requirement already satisfied: pybcj<1.1.0,>=1.0.0 in ./env1/lib/python3.11/site-packages (from py7zr->voxel51-eta<0.15,>=0.14.0->fiftyone) (1.0.3)\n",
            "Requirement already satisfied: multivolumefile>=0.2.3 in ./env1/lib/python3.11/site-packages (from py7zr->voxel51-eta<0.15,>=0.14.0->fiftyone) (0.2.3)\n",
            "Requirement already satisfied: inflate64<1.1.0,>=1.0.0 in ./env1/lib/python3.11/site-packages (from py7zr->voxel51-eta<0.15,>=0.14.0->fiftyone) (1.0.1)\n",
            "Requirement already satisfied: brotli>=1.1.0 in ./env1/lib/python3.11/site-packages (from py7zr->voxel51-eta<0.15,>=0.14.0->fiftyone) (1.1.0)\n",
            "Requirement already satisfied: charset-normalizer<4,>=2 in ./env1/lib/python3.11/site-packages (from requests->voxel51-eta<0.15,>=0.14.0->fiftyone) (3.4.1)\n",
            "Note: you may need to restart the kernel to use updated packages.\n"
          ]
        }
      ],
      "source": [
        "%pip install fiftyone"
      ]
    },
    {
      "cell_type": "code",
      "execution_count": 3,
      "metadata": {
        "id": "t-S_hIp1wryn"
      },
      "outputs": [],
      "source": [
        "# !pip install opencv-python-headless\n",
        "import fiftyone as fo"
      ]
    },
    {
      "cell_type": "markdown",
      "metadata": {
        "id": "AcONl_4F4AG5"
      },
      "source": []
    },
    {
      "cell_type": "code",
      "execution_count": 4,
      "metadata": {
        "colab": {
          "base_uri": "https://localhost:8080/"
        },
        "id": "Q7ZaMa3uzdKH",
        "outputId": "8e2e4f72-80e8-4acd-9451-425f7c03c4b1"
      },
      "outputs": [
        {
          "name": "stdout",
          "output_type": "stream",
          "text": [
            "Collecting roboflow\n",
            "  Downloading roboflow-1.1.54-py3-none-any.whl.metadata (9.7 kB)\n",
            "Requirement already satisfied: certifi in ./env1/lib/python3.11/site-packages (from roboflow) (2025.1.31)\n",
            "Collecting idna==3.7 (from roboflow)\n",
            "  Downloading idna-3.7-py3-none-any.whl.metadata (9.9 kB)\n",
            "Requirement already satisfied: cycler in ./env1/lib/python3.11/site-packages (from roboflow) (0.12.1)\n",
            "Requirement already satisfied: kiwisolver>=1.3.1 in ./env1/lib/python3.11/site-packages (from roboflow) (1.4.8)\n",
            "Requirement already satisfied: matplotlib in ./env1/lib/python3.11/site-packages (from roboflow) (3.10.1)\n",
            "Requirement already satisfied: numpy>=1.18.5 in ./env1/lib/python3.11/site-packages (from roboflow) (2.2.3)\n",
            "Collecting opencv-python-headless==4.10.0.84 (from roboflow)\n",
            "  Downloading opencv_python_headless-4.10.0.84-cp37-abi3-manylinux_2_17_x86_64.manylinux2014_x86_64.whl.metadata (20 kB)\n",
            "Requirement already satisfied: Pillow>=7.1.2 in ./env1/lib/python3.11/site-packages (from roboflow) (11.1.0)\n",
            "Requirement already satisfied: python-dateutil in ./env1/lib/python3.11/site-packages (from roboflow) (2.9.0.post0)\n",
            "Collecting python-dotenv (from roboflow)\n",
            "  Downloading python_dotenv-1.0.1-py3-none-any.whl.metadata (23 kB)\n",
            "Requirement already satisfied: requests in ./env1/lib/python3.11/site-packages (from roboflow) (2.32.3)\n",
            "Requirement already satisfied: six in ./env1/lib/python3.11/site-packages (from roboflow) (1.17.0)\n",
            "Requirement already satisfied: urllib3>=1.26.6 in ./env1/lib/python3.11/site-packages (from roboflow) (2.3.0)\n",
            "Collecting tqdm>=4.41.0 (from roboflow)\n",
            "  Using cached tqdm-4.67.1-py3-none-any.whl.metadata (57 kB)\n",
            "Requirement already satisfied: PyYAML>=5.3.1 in ./env1/lib/python3.11/site-packages (from roboflow) (6.0.2)\n",
            "Collecting requests-toolbelt (from roboflow)\n",
            "  Using cached requests_toolbelt-1.0.0-py2.py3-none-any.whl.metadata (14 kB)\n",
            "Collecting filetype (from roboflow)\n",
            "  Downloading filetype-1.2.0-py2.py3-none-any.whl.metadata (6.5 kB)\n",
            "Requirement already satisfied: contourpy>=1.0.1 in ./env1/lib/python3.11/site-packages (from matplotlib->roboflow) (1.3.1)\n",
            "Requirement already satisfied: fonttools>=4.22.0 in ./env1/lib/python3.11/site-packages (from matplotlib->roboflow) (4.56.0)\n",
            "Requirement already satisfied: packaging>=20.0 in ./env1/lib/python3.11/site-packages (from matplotlib->roboflow) (24.2)\n",
            "Requirement already satisfied: pyparsing>=2.3.1 in ./env1/lib/python3.11/site-packages (from matplotlib->roboflow) (3.2.1)\n",
            "Requirement already satisfied: charset-normalizer<4,>=2 in ./env1/lib/python3.11/site-packages (from requests->roboflow) (3.4.1)\n",
            "Downloading roboflow-1.1.54-py3-none-any.whl (83 kB)\n",
            "Downloading idna-3.7-py3-none-any.whl (66 kB)\n",
            "Downloading opencv_python_headless-4.10.0.84-cp37-abi3-manylinux_2_17_x86_64.manylinux2014_x86_64.whl (49.9 MB)\n",
            "\u001b[2K   \u001b[90m━━━━━━━━━━━━━━━━━━━━━━━━━━━━━━━━━━━━━━━━\u001b[0m \u001b[32m49.9/49.9 MB\u001b[0m \u001b[31m16.2 MB/s\u001b[0m eta \u001b[36m0:00:00\u001b[0m00:01\u001b[0m00:01\u001b[0m\n",
            "\u001b[?25hUsing cached tqdm-4.67.1-py3-none-any.whl (78 kB)\n",
            "Downloading filetype-1.2.0-py2.py3-none-any.whl (19 kB)\n",
            "Downloading python_dotenv-1.0.1-py3-none-any.whl (19 kB)\n",
            "Using cached requests_toolbelt-1.0.0-py2.py3-none-any.whl (54 kB)\n",
            "Installing collected packages: filetype, tqdm, python-dotenv, opencv-python-headless, idna, requests-toolbelt, roboflow\n",
            "  Attempting uninstall: opencv-python-headless\n",
            "    Found existing installation: opencv-python-headless 4.11.0.86\n",
            "    Uninstalling opencv-python-headless-4.11.0.86:\n",
            "      Successfully uninstalled opencv-python-headless-4.11.0.86\n",
            "  Attempting uninstall: idna\n",
            "    Found existing installation: idna 3.10\n",
            "    Uninstalling idna-3.10:\n",
            "      Successfully uninstalled idna-3.10\n",
            "Successfully installed filetype-1.2.0 idna-3.7 opencv-python-headless-4.10.0.84 python-dotenv-1.0.1 requests-toolbelt-1.0.0 roboflow-1.1.54 tqdm-4.67.1\n",
            "Note: you may need to restart the kernel to use updated packages.\n",
            "loading Roboflow workspace...\n",
            "loading Roboflow project...\n"
          ]
        },
        {
          "name": "stderr",
          "output_type": "stream",
          "text": [
            "Downloading Dataset Version Zip in Illegal-Parking-Detection-7 to coco:: 100%|██████████| 2412191/2412191 [01:28<00:00, 27161.53it/s]"
          ]
        },
        {
          "name": "stdout",
          "output_type": "stream",
          "text": [
            "\n"
          ]
        },
        {
          "name": "stderr",
          "output_type": "stream",
          "text": [
            "\n",
            "Extracting Dataset Version Zip to Illegal-Parking-Detection-7 in coco:: 100%|██████████| 3828/3828 [00:32<00:00, 116.44it/s]\n"
          ]
        }
      ],
      "source": [
        "%pip install roboflow\n",
        "\n",
        "from roboflow import Roboflow\n",
        "rf = Roboflow(api_key=\"eYJNQnmGg4HNZqJlFya8\")\n",
        "project = rf.workspace(\"caraga-state-university-lluzz\").project(\"illegal-parking-detection-8hv2g\")\n",
        "version = project.version(7)\n",
        "dataset = version.download(\"coco\")\n"
      ]
    },
    {
      "cell_type": "code",
      "execution_count": 5,
      "metadata": {
        "id": "QFS92TbM1LPx"
      },
      "outputs": [],
      "source": [
        "import fiftyone as fo"
      ]
    },
    {
      "cell_type": "code",
      "execution_count": null,
      "metadata": {
        "id": "_bAeCpB79Yq0"
      },
      "outputs": [],
      "source": [
        "name = \"v1\" # can rename to illegal parking alter\n",
        "dataset_dir = \"./Illegal-Parking-Detection-7\"\n",
        "train_dir = \"train\"\n",
        "test_dir = \"test\""
      ]
    },
    {
      "cell_type": "code",
      "execution_count": 12,
      "metadata": {
        "colab": {
          "base_uri": "https://localhost:8080/",
          "height": 374
        },
        "id": "mX_38m9n9_Mr",
        "outputId": "d559b60f-bf86-475d-d398-2c42aa4596d8"
      },
      "outputs": [
        {
          "ename": "ValueError",
          "evalue": "Data directory '/home/sanju/visualAI/prj/Illegal-Parking-Detection-7/data/' does not exist",
          "output_type": "error",
          "traceback": [
            "\u001b[31m---------------------------------------------------------------------------\u001b[39m",
            "\u001b[31mValueError\u001b[39m                                Traceback (most recent call last)",
            "\u001b[36mCell\u001b[39m\u001b[36m \u001b[39m\u001b[32mIn[12]\u001b[39m\u001b[32m, line 2\u001b[39m\n\u001b[32m      1\u001b[39m \u001b[38;5;66;03m# Create the dataset\u001b[39;00m\n\u001b[32m----> \u001b[39m\u001b[32m2\u001b[39m dataset = \u001b[43mfo\u001b[49m\u001b[43m.\u001b[49m\u001b[43mDataset\u001b[49m\u001b[43m.\u001b[49m\u001b[43mfrom_dir\u001b[49m\u001b[43m(\u001b[49m\n\u001b[32m      3\u001b[39m \u001b[43m    \u001b[49m\u001b[43mdataset_dir\u001b[49m\u001b[43m=\u001b[49m\u001b[43mdataset_dir\u001b[49m\u001b[43m,\u001b[49m\n\u001b[32m      4\u001b[39m \u001b[43m    \u001b[49m\u001b[43mdataset_type\u001b[49m\u001b[43m=\u001b[49m\u001b[43mfo\u001b[49m\u001b[43m.\u001b[49m\u001b[43mtypes\u001b[49m\u001b[43m.\u001b[49m\u001b[43mCOCODetectionDataset\u001b[49m\u001b[43m,\u001b[49m\n\u001b[32m      5\u001b[39m \u001b[43m    \u001b[49m\u001b[43mname\u001b[49m\u001b[43m=\u001b[49m\u001b[43mname\u001b[49m\n\u001b[32m      6\u001b[39m \u001b[43m)\u001b[49m\n",
            "\u001b[36mFile \u001b[39m\u001b[32m~/visualAI/prj/env1/lib/python3.11/site-packages/fiftyone/core/dataset.py:6728\u001b[39m, in \u001b[36mDataset.from_dir\u001b[39m\u001b[34m(cls, dataset_dir, dataset_type, data_path, labels_path, name, persistent, overwrite, label_field, tags, dynamic, progress, **kwargs)\u001b[39m\n\u001b[32m   6631\u001b[39m \u001b[38;5;250m\u001b[39m\u001b[33;03m\"\"\"Creates a :class:`Dataset` from the contents of the given directory.\u001b[39;00m\n\u001b[32m   6632\u001b[39m \n\u001b[32m   6633\u001b[39m \u001b[33;03mYou can create datasets with this method via the following basic\u001b[39;00m\n\u001b[32m   (...)\u001b[39m\u001b[32m   6725\u001b[39m \u001b[33;03m    a :class:`Dataset`\u001b[39;00m\n\u001b[32m   6726\u001b[39m \u001b[33;03m\"\"\"\u001b[39;00m\n\u001b[32m   6727\u001b[39m dataset = \u001b[38;5;28mcls\u001b[39m(name, persistent=persistent, overwrite=overwrite)\n\u001b[32m-> \u001b[39m\u001b[32m6728\u001b[39m \u001b[43mdataset\u001b[49m\u001b[43m.\u001b[49m\u001b[43madd_dir\u001b[49m\u001b[43m(\u001b[49m\n\u001b[32m   6729\u001b[39m \u001b[43m    \u001b[49m\u001b[43mdataset_dir\u001b[49m\u001b[43m=\u001b[49m\u001b[43mdataset_dir\u001b[49m\u001b[43m,\u001b[49m\n\u001b[32m   6730\u001b[39m \u001b[43m    \u001b[49m\u001b[43mdataset_type\u001b[49m\u001b[43m=\u001b[49m\u001b[43mdataset_type\u001b[49m\u001b[43m,\u001b[49m\n\u001b[32m   6731\u001b[39m \u001b[43m    \u001b[49m\u001b[43mdata_path\u001b[49m\u001b[43m=\u001b[49m\u001b[43mdata_path\u001b[49m\u001b[43m,\u001b[49m\n\u001b[32m   6732\u001b[39m \u001b[43m    \u001b[49m\u001b[43mlabels_path\u001b[49m\u001b[43m=\u001b[49m\u001b[43mlabels_path\u001b[49m\u001b[43m,\u001b[49m\n\u001b[32m   6733\u001b[39m \u001b[43m    \u001b[49m\u001b[43mlabel_field\u001b[49m\u001b[43m=\u001b[49m\u001b[43mlabel_field\u001b[49m\u001b[43m,\u001b[49m\n\u001b[32m   6734\u001b[39m \u001b[43m    \u001b[49m\u001b[43mtags\u001b[49m\u001b[43m=\u001b[49m\u001b[43mtags\u001b[49m\u001b[43m,\u001b[49m\n\u001b[32m   6735\u001b[39m \u001b[43m    \u001b[49m\u001b[43mdynamic\u001b[49m\u001b[43m=\u001b[49m\u001b[43mdynamic\u001b[49m\u001b[43m,\u001b[49m\n\u001b[32m   6736\u001b[39m \u001b[43m    \u001b[49m\u001b[43mprogress\u001b[49m\u001b[43m=\u001b[49m\u001b[43mprogress\u001b[49m\u001b[43m,\u001b[49m\n\u001b[32m   6737\u001b[39m \u001b[43m    \u001b[49m\u001b[43m*\u001b[49m\u001b[43m*\u001b[49m\u001b[43mkwargs\u001b[49m\u001b[43m,\u001b[49m\n\u001b[32m   6738\u001b[39m \u001b[43m\u001b[49m\u001b[43m)\u001b[49m\n\u001b[32m   6739\u001b[39m \u001b[38;5;28;01mreturn\u001b[39;00m dataset\n",
            "\u001b[36mFile \u001b[39m\u001b[32m~/visualAI/prj/env1/lib/python3.11/site-packages/fiftyone/core/dataset.py:5326\u001b[39m, in \u001b[36mDataset.add_dir\u001b[39m\u001b[34m(self, dataset_dir, dataset_type, data_path, labels_path, label_field, tags, expand_schema, dynamic, add_info, progress, **kwargs)\u001b[39m\n\u001b[32m   5221\u001b[39m \u001b[38;5;250m\u001b[39m\u001b[33;03m\"\"\"Adds the contents of the given directory to the dataset.\u001b[39;00m\n\u001b[32m   5222\u001b[39m \n\u001b[32m   5223\u001b[39m \u001b[33;03mYou can perform imports with this method via the following basic\u001b[39;00m\n\u001b[32m   (...)\u001b[39m\u001b[32m   5315\u001b[39m \u001b[33;03m    a list of IDs of the samples that were added to the dataset\u001b[39;00m\n\u001b[32m   5316\u001b[39m \u001b[33;03m\"\"\"\u001b[39;00m\n\u001b[32m   5317\u001b[39m dataset_importer, _ = foud.build_dataset_importer(\n\u001b[32m   5318\u001b[39m     dataset_type,\n\u001b[32m   5319\u001b[39m     dataset_dir=dataset_dir,\n\u001b[32m   (...)\u001b[39m\u001b[32m   5323\u001b[39m     **kwargs,\n\u001b[32m   5324\u001b[39m )\n\u001b[32m-> \u001b[39m\u001b[32m5326\u001b[39m \u001b[38;5;28;01mreturn\u001b[39;00m \u001b[38;5;28;43mself\u001b[39;49m\u001b[43m.\u001b[49m\u001b[43madd_importer\u001b[49m\u001b[43m(\u001b[49m\n\u001b[32m   5327\u001b[39m \u001b[43m    \u001b[49m\u001b[43mdataset_importer\u001b[49m\u001b[43m,\u001b[49m\n\u001b[32m   5328\u001b[39m \u001b[43m    \u001b[49m\u001b[43mlabel_field\u001b[49m\u001b[43m=\u001b[49m\u001b[43mlabel_field\u001b[49m\u001b[43m,\u001b[49m\n\u001b[32m   5329\u001b[39m \u001b[43m    \u001b[49m\u001b[43mtags\u001b[49m\u001b[43m=\u001b[49m\u001b[43mtags\u001b[49m\u001b[43m,\u001b[49m\n\u001b[32m   5330\u001b[39m \u001b[43m    \u001b[49m\u001b[43mexpand_schema\u001b[49m\u001b[43m=\u001b[49m\u001b[43mexpand_schema\u001b[49m\u001b[43m,\u001b[49m\n\u001b[32m   5331\u001b[39m \u001b[43m    \u001b[49m\u001b[43mdynamic\u001b[49m\u001b[43m=\u001b[49m\u001b[43mdynamic\u001b[49m\u001b[43m,\u001b[49m\n\u001b[32m   5332\u001b[39m \u001b[43m    \u001b[49m\u001b[43madd_info\u001b[49m\u001b[43m=\u001b[49m\u001b[43madd_info\u001b[49m\u001b[43m,\u001b[49m\n\u001b[32m   5333\u001b[39m \u001b[43m    \u001b[49m\u001b[43mprogress\u001b[49m\u001b[43m=\u001b[49m\u001b[43mprogress\u001b[49m\u001b[43m,\u001b[49m\n\u001b[32m   5334\u001b[39m \u001b[43m\u001b[49m\u001b[43m)\u001b[49m\n",
            "\u001b[36mFile \u001b[39m\u001b[32m~/visualAI/prj/env1/lib/python3.11/site-packages/fiftyone/core/dataset.py:5922\u001b[39m, in \u001b[36mDataset.add_importer\u001b[39m\u001b[34m(self, dataset_importer, label_field, tags, expand_schema, dynamic, add_info, progress)\u001b[39m\n\u001b[32m   5873\u001b[39m \u001b[38;5;28;01mdef\u001b[39;00m\u001b[38;5;250m \u001b[39m\u001b[34madd_importer\u001b[39m(\n\u001b[32m   5874\u001b[39m     \u001b[38;5;28mself\u001b[39m,\n\u001b[32m   5875\u001b[39m     dataset_importer,\n\u001b[32m   (...)\u001b[39m\u001b[32m   5881\u001b[39m     progress=\u001b[38;5;28;01mNone\u001b[39;00m,\n\u001b[32m   5882\u001b[39m ):\n\u001b[32m   5883\u001b[39m \u001b[38;5;250m    \u001b[39m\u001b[33;03m\"\"\"Adds the samples from the given\u001b[39;00m\n\u001b[32m   5884\u001b[39m \u001b[33;03m    :class:`fiftyone.utils.data.importers.DatasetImporter` to the dataset.\u001b[39;00m\n\u001b[32m   5885\u001b[39m \n\u001b[32m   (...)\u001b[39m\u001b[32m   5920\u001b[39m \u001b[33;03m        a list of IDs of the samples that were added to the dataset\u001b[39;00m\n\u001b[32m   5921\u001b[39m \u001b[33;03m    \"\"\"\u001b[39;00m\n\u001b[32m-> \u001b[39m\u001b[32m5922\u001b[39m     \u001b[38;5;28;01mreturn\u001b[39;00m \u001b[43mfoud\u001b[49m\u001b[43m.\u001b[49m\u001b[43mimport_samples\u001b[49m\u001b[43m(\u001b[49m\n\u001b[32m   5923\u001b[39m \u001b[43m        \u001b[49m\u001b[38;5;28;43mself\u001b[39;49m\u001b[43m,\u001b[49m\n\u001b[32m   5924\u001b[39m \u001b[43m        \u001b[49m\u001b[43mdataset_importer\u001b[49m\u001b[43m,\u001b[49m\n\u001b[32m   5925\u001b[39m \u001b[43m        \u001b[49m\u001b[43mlabel_field\u001b[49m\u001b[43m=\u001b[49m\u001b[43mlabel_field\u001b[49m\u001b[43m,\u001b[49m\n\u001b[32m   5926\u001b[39m \u001b[43m        \u001b[49m\u001b[43mtags\u001b[49m\u001b[43m=\u001b[49m\u001b[43mtags\u001b[49m\u001b[43m,\u001b[49m\n\u001b[32m   5927\u001b[39m \u001b[43m        \u001b[49m\u001b[43mexpand_schema\u001b[49m\u001b[43m=\u001b[49m\u001b[43mexpand_schema\u001b[49m\u001b[43m,\u001b[49m\n\u001b[32m   5928\u001b[39m \u001b[43m        \u001b[49m\u001b[43mdynamic\u001b[49m\u001b[43m=\u001b[49m\u001b[43mdynamic\u001b[49m\u001b[43m,\u001b[49m\n\u001b[32m   5929\u001b[39m \u001b[43m        \u001b[49m\u001b[43madd_info\u001b[49m\u001b[43m=\u001b[49m\u001b[43madd_info\u001b[49m\u001b[43m,\u001b[49m\n\u001b[32m   5930\u001b[39m \u001b[43m        \u001b[49m\u001b[43mprogress\u001b[49m\u001b[43m=\u001b[49m\u001b[43mprogress\u001b[49m\u001b[43m,\u001b[49m\n\u001b[32m   5931\u001b[39m \u001b[43m    \u001b[49m\u001b[43m)\u001b[49m\n",
            "\u001b[36mFile \u001b[39m\u001b[32m~/visualAI/prj/env1/lib/python3.11/site-packages/fiftyone/utils/data/importers.py:131\u001b[39m, in \u001b[36mimport_samples\u001b[39m\u001b[34m(dataset, dataset_importer, label_field, tags, expand_schema, dynamic, add_info, progress)\u001b[39m\n\u001b[32m    123\u001b[39m         \u001b[38;5;28;01mreturn\u001b[39;00m dataset_importer.import_samples(\n\u001b[32m    124\u001b[39m             dataset, tags=tags, progress=progress\n\u001b[32m    125\u001b[39m         )\n\u001b[32m    127\u001b[39m \u001b[38;5;66;03m#\u001b[39;00m\n\u001b[32m    128\u001b[39m \u001b[38;5;66;03m# Non-batch imports\u001b[39;00m\n\u001b[32m    129\u001b[39m \u001b[38;5;66;03m#\u001b[39;00m\n\u001b[32m--> \u001b[39m\u001b[32m131\u001b[39m \u001b[43m\u001b[49m\u001b[38;5;28;43;01mwith\u001b[39;49;00m\u001b[43m \u001b[49m\u001b[43mdataset_importer\u001b[49m\u001b[43m:\u001b[49m\n\u001b[32m    132\u001b[39m \u001b[43m    \u001b[49m\u001b[43mparse_sample\u001b[49m\u001b[43m,\u001b[49m\u001b[43m \u001b[49m\u001b[43mexpand_schema\u001b[49m\u001b[43m,\u001b[49m\u001b[43m \u001b[49m\u001b[43mdynamic\u001b[49m\u001b[43m \u001b[49m\u001b[43m=\u001b[49m\u001b[43m \u001b[49m\u001b[43m_build_parse_sample_fcn\u001b[49m\u001b[43m(\u001b[49m\n\u001b[32m    133\u001b[39m \u001b[43m        \u001b[49m\u001b[43mdataset\u001b[49m\u001b[43m,\u001b[49m\n\u001b[32m    134\u001b[39m \u001b[43m        \u001b[49m\u001b[43mdataset_importer\u001b[49m\u001b[43m,\u001b[49m\n\u001b[32m   (...)\u001b[39m\u001b[32m    138\u001b[39m \u001b[43m        \u001b[49m\u001b[43mdynamic\u001b[49m\u001b[43m,\u001b[49m\n\u001b[32m    139\u001b[39m \u001b[43m    \u001b[49m\u001b[43m)\u001b[49m\n\u001b[32m    141\u001b[39m \u001b[43m    \u001b[49m\u001b[38;5;28;43;01mif\u001b[39;49;00m\u001b[43m \u001b[49m\u001b[38;5;28;43misinstance\u001b[39;49m\u001b[43m(\u001b[49m\u001b[43mdataset_importer\u001b[49m\u001b[43m,\u001b[49m\u001b[43m \u001b[49m\u001b[43mGroupDatasetImporter\u001b[49m\u001b[43m)\u001b[49m\u001b[43m:\u001b[49m\n",
            "\u001b[36mFile \u001b[39m\u001b[32m~/visualAI/prj/env1/lib/python3.11/site-packages/fiftyone/utils/data/importers.py:849\u001b[39m, in \u001b[36mDatasetImporter.__enter__\u001b[39m\u001b[34m(self)\u001b[39m\n\u001b[32m    848\u001b[39m \u001b[38;5;28;01mdef\u001b[39;00m\u001b[38;5;250m \u001b[39m\u001b[34m__enter__\u001b[39m(\u001b[38;5;28mself\u001b[39m):\n\u001b[32m--> \u001b[39m\u001b[32m849\u001b[39m     \u001b[38;5;28;43mself\u001b[39;49m\u001b[43m.\u001b[49m\u001b[43msetup\u001b[49m\u001b[43m(\u001b[49m\u001b[43m)\u001b[49m\n\u001b[32m    850\u001b[39m     \u001b[38;5;28;01mreturn\u001b[39;00m \u001b[38;5;28mself\u001b[39m\n",
            "\u001b[36mFile \u001b[39m\u001b[32m~/visualAI/prj/env1/lib/python3.11/site-packages/fiftyone/utils/coco.py:563\u001b[39m, in \u001b[36mCOCODetectionDatasetImporter.setup\u001b[39m\u001b[34m(self)\u001b[39m\n\u001b[32m    562\u001b[39m \u001b[38;5;28;01mdef\u001b[39;00m\u001b[38;5;250m \u001b[39m\u001b[34msetup\u001b[39m(\u001b[38;5;28mself\u001b[39m):\n\u001b[32m--> \u001b[39m\u001b[32m563\u001b[39m     image_paths_map = \u001b[38;5;28;43mself\u001b[39;49m\u001b[43m.\u001b[49m\u001b[43m_load_data_map\u001b[49m\u001b[43m(\u001b[49m\u001b[38;5;28;43mself\u001b[39;49m\u001b[43m.\u001b[49m\u001b[43mdata_path\u001b[49m\u001b[43m,\u001b[49m\u001b[43m \u001b[49m\u001b[43mrecursive\u001b[49m\u001b[43m=\u001b[49m\u001b[38;5;28;43;01mTrue\u001b[39;49;00m\u001b[43m)\u001b[49m\n\u001b[32m    565\u001b[39m     \u001b[38;5;28;01mif\u001b[39;00m \u001b[38;5;28mself\u001b[39m.labels_path \u001b[38;5;129;01mis\u001b[39;00m \u001b[38;5;129;01mnot\u001b[39;00m \u001b[38;5;28;01mNone\u001b[39;00m \u001b[38;5;129;01mand\u001b[39;00m os.path.isfile(\u001b[38;5;28mself\u001b[39m.labels_path):\n\u001b[32m    566\u001b[39m         (\n\u001b[32m    567\u001b[39m             info,\n\u001b[32m    568\u001b[39m             classes_map,\n\u001b[32m   (...)\u001b[39m\u001b[32m    573\u001b[39m             \u001b[38;5;28mself\u001b[39m.labels_path, extra_attrs=\u001b[38;5;28mself\u001b[39m.extra_attrs\n\u001b[32m    574\u001b[39m         )\n",
            "\u001b[36mFile \u001b[39m\u001b[32m~/visualAI/prj/env1/lib/python3.11/site-packages/fiftyone/utils/data/importers.py:807\u001b[39m, in \u001b[36mImportPathsMixin._load_data_map\u001b[39m\u001b[34m(data_path, ignore_exts, recursive)\u001b[39m\n\u001b[32m    801\u001b[39m     \u001b[38;5;28;01mreturn\u001b[39;00m {\n\u001b[32m    802\u001b[39m         to_uuid(k): fos.normpath(os.path.join(data_root, v))\n\u001b[32m    803\u001b[39m         \u001b[38;5;28;01mfor\u001b[39;00m k, v \u001b[38;5;129;01min\u001b[39;00m data_map.items()\n\u001b[32m    804\u001b[39m     }\n\u001b[32m    806\u001b[39m \u001b[38;5;28;01mif\u001b[39;00m \u001b[38;5;129;01mnot\u001b[39;00m os.path.isdir(data_path):\n\u001b[32m--> \u001b[39m\u001b[32m807\u001b[39m     \u001b[38;5;28;01mraise\u001b[39;00m \u001b[38;5;167;01mValueError\u001b[39;00m(\u001b[33m\"\u001b[39m\u001b[33mData directory \u001b[39m\u001b[33m'\u001b[39m\u001b[38;5;132;01m%s\u001b[39;00m\u001b[33m'\u001b[39m\u001b[33m does not exist\u001b[39m\u001b[33m\"\u001b[39m % data_path)\n\u001b[32m    809\u001b[39m \u001b[38;5;28;01mreturn\u001b[39;00m {\n\u001b[32m    810\u001b[39m     to_uuid(p): fos.normpath(os.path.join(data_path, p))\n\u001b[32m    811\u001b[39m     \u001b[38;5;28;01mfor\u001b[39;00m p \u001b[38;5;129;01min\u001b[39;00m etau.list_files(data_path, recursive=recursive)\n\u001b[32m    812\u001b[39m }\n",
            "\u001b[31mValueError\u001b[39m: Data directory '/home/sanju/visualAI/prj/Illegal-Parking-Detection-7/data/' does not exist"
          ]
        }
      ],
      "source": [
        "# Create the dataset\n",
        "dataset = fo.Dataset.from_dir(\n",
        "    dataset_dir=dataset_dir,\n",
        "    dataset_type=fo.types.COCODetectionDataset,\n",
        "    name=name\n",
        ")"
      ]
    },
    {
      "cell_type": "code",
      "execution_count": null,
      "metadata": {
        "id": "RK1wECC4Azc8"
      },
      "outputs": [],
      "source": [
        "print(dataset)"
      ]
    },
    {
      "cell_type": "code",
      "execution_count": null,
      "metadata": {
        "id": "eeiKJEvnBTrk"
      },
      "outputs": [],
      "source": []
    }
  ],
  "metadata": {
    "colab": {
      "provenance": []
    },
    "kernelspec": {
      "display_name": "env1",
      "language": "python",
      "name": "python3"
    },
    "language_info": {
      "codemirror_mode": {
        "name": "ipython",
        "version": 3
      },
      "file_extension": ".py",
      "mimetype": "text/x-python",
      "name": "python",
      "nbconvert_exporter": "python",
      "pygments_lexer": "ipython3",
      "version": "3.11.11"
    }
  },
  "nbformat": 4,
  "nbformat_minor": 0
}

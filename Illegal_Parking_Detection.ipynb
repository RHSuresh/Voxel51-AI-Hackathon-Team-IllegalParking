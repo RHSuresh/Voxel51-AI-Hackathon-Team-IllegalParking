{
  "cells": [
    {
      "cell_type": "code",
      "execution_count": 2,
      "metadata": {
        "colab": {
          "base_uri": "https://localhost:8080/"
        },
        "id": "ZP3Dv1PFwqNy",
        "outputId": "5a0b960e-c1f5-4051-d508-04612cc7927b"
      },
      "outputs": [
        {
          "name": "stdout",
          "output_type": "stream",
          "text": [
            "Requirement already satisfied: fiftyone in ./env1/lib/python3.11/site-packages (1.3.1)\n",
            "Requirement already satisfied: aiofiles in ./env1/lib/python3.11/site-packages (from fiftyone) (24.1.0)\n",
            "Requirement already satisfied: argcomplete in ./env1/lib/python3.11/site-packages (from fiftyone) (3.6.0)\n",
            "Requirement already satisfied: beautifulsoup4 in ./env1/lib/python3.11/site-packages (from fiftyone) (4.13.3)\n",
            "Requirement already satisfied: boto3 in ./env1/lib/python3.11/site-packages (from fiftyone) (1.37.9)\n",
            "Requirement already satisfied: cachetools in ./env1/lib/python3.11/site-packages (from fiftyone) (5.5.2)\n",
            "Requirement already satisfied: dacite<1.8.0,>=1.6.0 in ./env1/lib/python3.11/site-packages (from fiftyone) (1.7.0)\n",
            "Requirement already satisfied: Deprecated in ./env1/lib/python3.11/site-packages (from fiftyone) (1.2.18)\n",
            "Requirement already satisfied: ftfy in ./env1/lib/python3.11/site-packages (from fiftyone) (6.3.1)\n",
            "Requirement already satisfied: humanize in ./env1/lib/python3.11/site-packages (from fiftyone) (4.12.1)\n",
            "Requirement already satisfied: hypercorn>=0.13.2 in ./env1/lib/python3.11/site-packages (from fiftyone) (0.17.3)\n",
            "Requirement already satisfied: Jinja2>=3 in ./env1/lib/python3.11/site-packages (from fiftyone) (3.1.6)\n",
            "Requirement already satisfied: kaleido!=0.2.1.post1 in ./env1/lib/python3.11/site-packages (from fiftyone) (0.2.1)\n",
            "Requirement already satisfied: matplotlib in ./env1/lib/python3.11/site-packages (from fiftyone) (3.10.1)\n",
            "Requirement already satisfied: mongoengine~=0.29.1 in ./env1/lib/python3.11/site-packages (from fiftyone) (0.29.1)\n",
            "Requirement already satisfied: motor~=3.6.0 in ./env1/lib/python3.11/site-packages (from fiftyone) (3.6.1)\n",
            "Requirement already satisfied: numpy in ./env1/lib/python3.11/site-packages (from fiftyone) (2.2.3)\n",
            "Requirement already satisfied: packaging in ./env1/lib/python3.11/site-packages (from fiftyone) (24.2)\n",
            "Requirement already satisfied: pandas in ./env1/lib/python3.11/site-packages (from fiftyone) (2.2.3)\n",
            "Requirement already satisfied: Pillow>=6.2 in ./env1/lib/python3.11/site-packages (from fiftyone) (11.1.0)\n",
            "Requirement already satisfied: plotly>=4.14 in ./env1/lib/python3.11/site-packages (from fiftyone) (6.0.0)\n",
            "Requirement already satisfied: pprintpp in ./env1/lib/python3.11/site-packages (from fiftyone) (0.4.0)\n",
            "Requirement already satisfied: psutil in ./env1/lib/python3.11/site-packages (from fiftyone) (7.0.0)\n",
            "Requirement already satisfied: pymongo~=4.9.2 in ./env1/lib/python3.11/site-packages (from fiftyone) (4.9.2)\n",
            "Requirement already satisfied: pytz in ./env1/lib/python3.11/site-packages (from fiftyone) (2025.1)\n",
            "Requirement already satisfied: PyYAML in ./env1/lib/python3.11/site-packages (from fiftyone) (6.0.2)\n",
            "Requirement already satisfied: regex in ./env1/lib/python3.11/site-packages (from fiftyone) (2024.11.6)\n",
            "Requirement already satisfied: retrying in ./env1/lib/python3.11/site-packages (from fiftyone) (1.3.4)\n",
            "Requirement already satisfied: rtree in ./env1/lib/python3.11/site-packages (from fiftyone) (1.4.0)\n",
            "Requirement already satisfied: scikit-learn in ./env1/lib/python3.11/site-packages (from fiftyone) (1.6.1)\n",
            "Requirement already satisfied: scikit-image in ./env1/lib/python3.11/site-packages (from fiftyone) (0.25.2)\n",
            "Requirement already satisfied: scipy in ./env1/lib/python3.11/site-packages (from fiftyone) (1.15.2)\n",
            "Requirement already satisfied: setuptools in ./env1/lib/python3.11/site-packages (from fiftyone) (65.5.0)\n",
            "Requirement already satisfied: sseclient-py<2,>=1.7.2 in ./env1/lib/python3.11/site-packages (from fiftyone) (1.8.0)\n",
            "Requirement already satisfied: sse-starlette<1,>=0.10.3 in ./env1/lib/python3.11/site-packages (from fiftyone) (0.10.3)\n",
            "Requirement already satisfied: starlette>=0.24.0 in ./env1/lib/python3.11/site-packages (from fiftyone) (0.46.1)\n",
            "Requirement already satisfied: strawberry-graphql in ./env1/lib/python3.11/site-packages (from fiftyone) (0.262.1)\n",
            "Requirement already satisfied: tabulate in ./env1/lib/python3.11/site-packages (from fiftyone) (0.9.0)\n",
            "Requirement already satisfied: xmltodict in ./env1/lib/python3.11/site-packages (from fiftyone) (0.14.2)\n",
            "Requirement already satisfied: universal-analytics-python3<2,>=1.0.1 in ./env1/lib/python3.11/site-packages (from fiftyone) (1.1.1)\n",
            "Requirement already satisfied: pydash in ./env1/lib/python3.11/site-packages (from fiftyone) (8.0.5)\n",
            "Requirement already satisfied: fiftyone-brain<0.20,>=0.19.0 in ./env1/lib/python3.11/site-packages (from fiftyone) (0.19.0)\n",
            "Requirement already satisfied: fiftyone-db<2.0,>=0.4 in ./env1/lib/python3.11/site-packages (from fiftyone) (1.1.7)\n",
            "Requirement already satisfied: voxel51-eta<0.15,>=0.14.0 in ./env1/lib/python3.11/site-packages (from fiftyone) (0.14.0)\n",
            "Requirement already satisfied: opencv-python-headless in ./env1/lib/python3.11/site-packages (from fiftyone) (4.11.0.86)\n",
            "Requirement already satisfied: h11 in ./env1/lib/python3.11/site-packages (from hypercorn>=0.13.2->fiftyone) (0.14.0)\n",
            "Requirement already satisfied: h2>=3.1.0 in ./env1/lib/python3.11/site-packages (from hypercorn>=0.13.2->fiftyone) (4.2.0)\n",
            "Requirement already satisfied: priority in ./env1/lib/python3.11/site-packages (from hypercorn>=0.13.2->fiftyone) (2.0.0)\n",
            "Requirement already satisfied: wsproto>=0.14.0 in ./env1/lib/python3.11/site-packages (from hypercorn>=0.13.2->fiftyone) (1.2.0)\n",
            "Requirement already satisfied: MarkupSafe>=2.0 in ./env1/lib/python3.11/site-packages (from Jinja2>=3->fiftyone) (3.0.2)\n",
            "Requirement already satisfied: narwhals>=1.15.1 in ./env1/lib/python3.11/site-packages (from plotly>=4.14->fiftyone) (1.29.1)\n",
            "Requirement already satisfied: dnspython<3.0.0,>=1.16.0 in ./env1/lib/python3.11/site-packages (from pymongo~=4.9.2->fiftyone) (2.7.0)\n",
            "Requirement already satisfied: anyio<5,>=3.6.2 in ./env1/lib/python3.11/site-packages (from starlette>=0.24.0->fiftyone) (4.8.0)\n",
            "Requirement already satisfied: httpx>=0.10.0 in ./env1/lib/python3.11/site-packages (from universal-analytics-python3<2,>=1.0.1->fiftyone) (0.28.1)\n",
            "Requirement already satisfied: dill in ./env1/lib/python3.11/site-packages (from voxel51-eta<0.15,>=0.14.0->fiftyone) (0.3.9)\n",
            "Requirement already satisfied: future in ./env1/lib/python3.11/site-packages (from voxel51-eta<0.15,>=0.14.0->fiftyone) (1.0.0)\n",
            "Requirement already satisfied: glob2 in ./env1/lib/python3.11/site-packages (from voxel51-eta<0.15,>=0.14.0->fiftyone) (0.7)\n",
            "Requirement already satisfied: jsonlines in ./env1/lib/python3.11/site-packages (from voxel51-eta<0.15,>=0.14.0->fiftyone) (4.0.0)\n",
            "Requirement already satisfied: py7zr in ./env1/lib/python3.11/site-packages (from voxel51-eta<0.15,>=0.14.0->fiftyone) (0.22.0)\n",
            "Requirement already satisfied: python-dateutil in ./env1/lib/python3.11/site-packages (from voxel51-eta<0.15,>=0.14.0->fiftyone) (2.9.0.post0)\n",
            "Requirement already satisfied: rarfile in ./env1/lib/python3.11/site-packages (from voxel51-eta<0.15,>=0.14.0->fiftyone) (4.2)\n",
            "Requirement already satisfied: requests in ./env1/lib/python3.11/site-packages (from voxel51-eta<0.15,>=0.14.0->fiftyone) (2.32.3)\n",
            "Requirement already satisfied: six in ./env1/lib/python3.11/site-packages (from voxel51-eta<0.15,>=0.14.0->fiftyone) (1.17.0)\n",
            "Requirement already satisfied: sortedcontainers in ./env1/lib/python3.11/site-packages (from voxel51-eta<0.15,>=0.14.0->fiftyone) (2.4.0)\n",
            "Requirement already satisfied: tzlocal in ./env1/lib/python3.11/site-packages (from voxel51-eta<0.15,>=0.14.0->fiftyone) (5.3.1)\n",
            "Requirement already satisfied: urllib3 in ./env1/lib/python3.11/site-packages (from voxel51-eta<0.15,>=0.14.0->fiftyone) (2.3.0)\n",
            "Requirement already satisfied: soupsieve>1.2 in ./env1/lib/python3.11/site-packages (from beautifulsoup4->fiftyone) (2.6)\n",
            "Requirement already satisfied: typing-extensions>=4.0.0 in ./env1/lib/python3.11/site-packages (from beautifulsoup4->fiftyone) (4.12.2)\n",
            "Requirement already satisfied: botocore<1.38.0,>=1.37.9 in ./env1/lib/python3.11/site-packages (from boto3->fiftyone) (1.37.9)\n",
            "Requirement already satisfied: jmespath<2.0.0,>=0.7.1 in ./env1/lib/python3.11/site-packages (from boto3->fiftyone) (1.0.1)\n",
            "Requirement already satisfied: s3transfer<0.12.0,>=0.11.0 in ./env1/lib/python3.11/site-packages (from boto3->fiftyone) (0.11.4)\n",
            "Requirement already satisfied: wrapt<2,>=1.10 in ./env1/lib/python3.11/site-packages (from Deprecated->fiftyone) (1.17.2)\n",
            "Requirement already satisfied: wcwidth in ./env1/lib/python3.11/site-packages (from ftfy->fiftyone) (0.2.13)\n",
            "Requirement already satisfied: contourpy>=1.0.1 in ./env1/lib/python3.11/site-packages (from matplotlib->fiftyone) (1.3.1)\n",
            "Requirement already satisfied: cycler>=0.10 in ./env1/lib/python3.11/site-packages (from matplotlib->fiftyone) (0.12.1)\n",
            "Requirement already satisfied: fonttools>=4.22.0 in ./env1/lib/python3.11/site-packages (from matplotlib->fiftyone) (4.56.0)\n",
            "Requirement already satisfied: kiwisolver>=1.3.1 in ./env1/lib/python3.11/site-packages (from matplotlib->fiftyone) (1.4.8)\n",
            "Requirement already satisfied: pyparsing>=2.3.1 in ./env1/lib/python3.11/site-packages (from matplotlib->fiftyone) (3.2.1)\n",
            "Requirement already satisfied: tzdata>=2022.7 in ./env1/lib/python3.11/site-packages (from pandas->fiftyone) (2025.1)\n",
            "Requirement already satisfied: networkx>=3.0 in ./env1/lib/python3.11/site-packages (from scikit-image->fiftyone) (3.4.2)\n",
            "Requirement already satisfied: imageio!=2.35.0,>=2.33 in ./env1/lib/python3.11/site-packages (from scikit-image->fiftyone) (2.37.0)\n",
            "Requirement already satisfied: tifffile>=2022.8.12 in ./env1/lib/python3.11/site-packages (from scikit-image->fiftyone) (2025.2.18)\n",
            "Requirement already satisfied: lazy-loader>=0.4 in ./env1/lib/python3.11/site-packages (from scikit-image->fiftyone) (0.4)\n",
            "Requirement already satisfied: joblib>=1.2.0 in ./env1/lib/python3.11/site-packages (from scikit-learn->fiftyone) (1.4.2)\n",
            "Requirement already satisfied: threadpoolctl>=3.1.0 in ./env1/lib/python3.11/site-packages (from scikit-learn->fiftyone) (3.5.0)\n",
            "Requirement already satisfied: graphql-core<3.4.0,>=3.2.0 in ./env1/lib/python3.11/site-packages (from strawberry-graphql->fiftyone) (3.2.6)\n",
            "Requirement already satisfied: idna>=2.8 in ./env1/lib/python3.11/site-packages (from anyio<5,>=3.6.2->starlette>=0.24.0->fiftyone) (3.10)\n",
            "Requirement already satisfied: sniffio>=1.1 in ./env1/lib/python3.11/site-packages (from anyio<5,>=3.6.2->starlette>=0.24.0->fiftyone) (1.3.1)\n",
            "Requirement already satisfied: hyperframe<7,>=6.1 in ./env1/lib/python3.11/site-packages (from h2>=3.1.0->hypercorn>=0.13.2->fiftyone) (6.1.0)\n",
            "Requirement already satisfied: hpack<5,>=4.1 in ./env1/lib/python3.11/site-packages (from h2>=3.1.0->hypercorn>=0.13.2->fiftyone) (4.1.0)\n",
            "Requirement already satisfied: certifi in ./env1/lib/python3.11/site-packages (from httpx>=0.10.0->universal-analytics-python3<2,>=1.0.1->fiftyone) (2025.1.31)\n",
            "Requirement already satisfied: httpcore==1.* in ./env1/lib/python3.11/site-packages (from httpx>=0.10.0->universal-analytics-python3<2,>=1.0.1->fiftyone) (1.0.7)\n",
            "Requirement already satisfied: attrs>=19.2.0 in ./env1/lib/python3.11/site-packages (from jsonlines->voxel51-eta<0.15,>=0.14.0->fiftyone) (25.1.0)\n",
            "Requirement already satisfied: texttable in ./env1/lib/python3.11/site-packages (from py7zr->voxel51-eta<0.15,>=0.14.0->fiftyone) (1.7.0)\n",
            "Requirement already satisfied: pycryptodomex>=3.16.0 in ./env1/lib/python3.11/site-packages (from py7zr->voxel51-eta<0.15,>=0.14.0->fiftyone) (3.21.0)\n",
            "Requirement already satisfied: pyzstd>=0.15.9 in ./env1/lib/python3.11/site-packages (from py7zr->voxel51-eta<0.15,>=0.14.0->fiftyone) (0.16.2)\n",
            "Requirement already satisfied: pyppmd<1.2.0,>=1.1.0 in ./env1/lib/python3.11/site-packages (from py7zr->voxel51-eta<0.15,>=0.14.0->fiftyone) (1.1.1)\n",
            "Requirement already satisfied: pybcj<1.1.0,>=1.0.0 in ./env1/lib/python3.11/site-packages (from py7zr->voxel51-eta<0.15,>=0.14.0->fiftyone) (1.0.3)\n",
            "Requirement already satisfied: multivolumefile>=0.2.3 in ./env1/lib/python3.11/site-packages (from py7zr->voxel51-eta<0.15,>=0.14.0->fiftyone) (0.2.3)\n",
            "Requirement already satisfied: inflate64<1.1.0,>=1.0.0 in ./env1/lib/python3.11/site-packages (from py7zr->voxel51-eta<0.15,>=0.14.0->fiftyone) (1.0.1)\n",
            "Requirement already satisfied: brotli>=1.1.0 in ./env1/lib/python3.11/site-packages (from py7zr->voxel51-eta<0.15,>=0.14.0->fiftyone) (1.1.0)\n",
            "Requirement already satisfied: charset-normalizer<4,>=2 in ./env1/lib/python3.11/site-packages (from requests->voxel51-eta<0.15,>=0.14.0->fiftyone) (3.4.1)\n",
            "Note: you may need to restart the kernel to use updated packages.\n"
          ]
        }
      ],
      "source": [
        "%pip install fiftyone"
      ]
    },
    {
      "cell_type": "code",
      "execution_count": 3,
      "metadata": {
        "id": "t-S_hIp1wryn"
      },
      "outputs": [],
      "source": [
        "# !pip install opencv-python-headless\n",
        "import fiftyone as fo"
      ]
    },
    {
      "cell_type": "markdown",
      "metadata": {
        "id": "AcONl_4F4AG5"
      },
      "source": []
    },
    {
      "cell_type": "code",
      "execution_count": 4,
      "metadata": {
        "colab": {
          "base_uri": "https://localhost:8080/"
        },
        "id": "Q7ZaMa3uzdKH",
        "outputId": "8e2e4f72-80e8-4acd-9451-425f7c03c4b1"
      },
      "outputs": [
        {
          "name": "stdout",
          "output_type": "stream",
          "text": [
            "Collecting roboflow\n",
            "  Downloading roboflow-1.1.54-py3-none-any.whl.metadata (9.7 kB)\n",
            "Requirement already satisfied: certifi in ./env1/lib/python3.11/site-packages (from roboflow) (2025.1.31)\n",
            "Collecting idna==3.7 (from roboflow)\n",
            "  Downloading idna-3.7-py3-none-any.whl.metadata (9.9 kB)\n",
            "Requirement already satisfied: cycler in ./env1/lib/python3.11/site-packages (from roboflow) (0.12.1)\n",
            "Requirement already satisfied: kiwisolver>=1.3.1 in ./env1/lib/python3.11/site-packages (from roboflow) (1.4.8)\n",
            "Requirement already satisfied: matplotlib in ./env1/lib/python3.11/site-packages (from roboflow) (3.10.1)\n",
            "Requirement already satisfied: numpy>=1.18.5 in ./env1/lib/python3.11/site-packages (from roboflow) (2.2.3)\n",
            "Collecting opencv-python-headless==4.10.0.84 (from roboflow)\n",
            "  Downloading opencv_python_headless-4.10.0.84-cp37-abi3-manylinux_2_17_x86_64.manylinux2014_x86_64.whl.metadata (20 kB)\n",
            "Requirement already satisfied: Pillow>=7.1.2 in ./env1/lib/python3.11/site-packages (from roboflow) (11.1.0)\n",
            "Requirement already satisfied: python-dateutil in ./env1/lib/python3.11/site-packages (from roboflow) (2.9.0.post0)\n",
            "Collecting python-dotenv (from roboflow)\n",
            "  Downloading python_dotenv-1.0.1-py3-none-any.whl.metadata (23 kB)\n",
            "Requirement already satisfied: requests in ./env1/lib/python3.11/site-packages (from roboflow) (2.32.3)\n",
            "Requirement already satisfied: six in ./env1/lib/python3.11/site-packages (from roboflow) (1.17.0)\n",
            "Requirement already satisfied: urllib3>=1.26.6 in ./env1/lib/python3.11/site-packages (from roboflow) (2.3.0)\n",
            "Collecting tqdm>=4.41.0 (from roboflow)\n",
            "  Using cached tqdm-4.67.1-py3-none-any.whl.metadata (57 kB)\n",
            "Requirement already satisfied: PyYAML>=5.3.1 in ./env1/lib/python3.11/site-packages (from roboflow) (6.0.2)\n",
            "Collecting requests-toolbelt (from roboflow)\n",
            "  Using cached requests_toolbelt-1.0.0-py2.py3-none-any.whl.metadata (14 kB)\n",
            "Collecting filetype (from roboflow)\n",
            "  Downloading filetype-1.2.0-py2.py3-none-any.whl.metadata (6.5 kB)\n",
            "Requirement already satisfied: contourpy>=1.0.1 in ./env1/lib/python3.11/site-packages (from matplotlib->roboflow) (1.3.1)\n",
            "Requirement already satisfied: fonttools>=4.22.0 in ./env1/lib/python3.11/site-packages (from matplotlib->roboflow) (4.56.0)\n",
            "Requirement already satisfied: packaging>=20.0 in ./env1/lib/python3.11/site-packages (from matplotlib->roboflow) (24.2)\n",
            "Requirement already satisfied: pyparsing>=2.3.1 in ./env1/lib/python3.11/site-packages (from matplotlib->roboflow) (3.2.1)\n",
            "Requirement already satisfied: charset-normalizer<4,>=2 in ./env1/lib/python3.11/site-packages (from requests->roboflow) (3.4.1)\n",
            "Downloading roboflow-1.1.54-py3-none-any.whl (83 kB)\n",
            "Downloading idna-3.7-py3-none-any.whl (66 kB)\n",
            "Downloading opencv_python_headless-4.10.0.84-cp37-abi3-manylinux_2_17_x86_64.manylinux2014_x86_64.whl (49.9 MB)\n",
            "\u001b[2K   \u001b[90m━━━━━━━━━━━━━━━━━━━━━━━━━━━━━━━━━━━━━━━━\u001b[0m \u001b[32m49.9/49.9 MB\u001b[0m \u001b[31m16.2 MB/s\u001b[0m eta \u001b[36m0:00:00\u001b[0m00:01\u001b[0m00:01\u001b[0m\n",
            "\u001b[?25hUsing cached tqdm-4.67.1-py3-none-any.whl (78 kB)\n",
            "Downloading filetype-1.2.0-py2.py3-none-any.whl (19 kB)\n",
            "Downloading python_dotenv-1.0.1-py3-none-any.whl (19 kB)\n",
            "Using cached requests_toolbelt-1.0.0-py2.py3-none-any.whl (54 kB)\n",
            "Installing collected packages: filetype, tqdm, python-dotenv, opencv-python-headless, idna, requests-toolbelt, roboflow\n",
            "  Attempting uninstall: opencv-python-headless\n",
            "    Found existing installation: opencv-python-headless 4.11.0.86\n",
            "    Uninstalling opencv-python-headless-4.11.0.86:\n",
            "      Successfully uninstalled opencv-python-headless-4.11.0.86\n",
            "  Attempting uninstall: idna\n",
            "    Found existing installation: idna 3.10\n",
            "    Uninstalling idna-3.10:\n",
            "      Successfully uninstalled idna-3.10\n",
            "Successfully installed filetype-1.2.0 idna-3.7 opencv-python-headless-4.10.0.84 python-dotenv-1.0.1 requests-toolbelt-1.0.0 roboflow-1.1.54 tqdm-4.67.1\n",
            "Note: you may need to restart the kernel to use updated packages.\n",
            "loading Roboflow workspace...\n",
            "loading Roboflow project...\n"
          ]
        },
        {
          "name": "stderr",
          "output_type": "stream",
          "text": [
            "Downloading Dataset Version Zip in Illegal-Parking-Detection-7 to coco:: 100%|██████████| 2412191/2412191 [01:28<00:00, 27161.53it/s]"
          ]
        },
        {
          "name": "stdout",
          "output_type": "stream",
          "text": [
            "\n"
          ]
        },
        {
          "name": "stderr",
          "output_type": "stream",
          "text": [
            "\n",
            "Extracting Dataset Version Zip to Illegal-Parking-Detection-7 in coco:: 100%|██████████| 3828/3828 [00:32<00:00, 116.44it/s]\n"
          ]
        }
      ],
      "source": [
        "%pip install roboflow\n",
        "\n",
        "from roboflow import Roboflow\n",
        "rf = Roboflow(api_key=\"eYJNQnmGg4HNZqJlFya8\")\n",
        "project = rf.workspace(\"caraga-state-university-lluzz\").project(\"illegal-parking-detection-8hv2g\")\n",
        "version = project.version(7)\n",
        "dataset = version.download(\"coco\")\n"
      ]
    },
    {
      "cell_type": "code",
      "execution_count": 5,
      "metadata": {
        "id": "QFS92TbM1LPx"
      },
      "outputs": [],
      "source": [
        "import fiftyone as fo"
      ]
    },
    {
      "cell_type": "code",
      "execution_count": 23,
      "metadata": {
        "id": "_bAeCpB79Yq0"
      },
      "outputs": [],
      "source": [
        "name = \"v1\" \n",
        "dataset_dir = \"./Illegal-Parking-Detection-7/data\"\n",
        "train_dir = \"train\"\n",
        "test_dir = \"test\""
      ]
    },
    {
      "cell_type": "code",
      "execution_count": null,
      "metadata": {},
      "outputs": [
        {
          "name": "stdout",
          "output_type": "stream",
          "text": [
            "Collecting pycocotools\n",
            "  Downloading pycocotools-2.0.8-cp311-cp311-manylinux_2_17_x86_64.manylinux2014_x86_64.whl.metadata (1.1 kB)\n",
            "Requirement already satisfied: matplotlib>=2.1.0 in ./env1/lib/python3.11/site-packages (from pycocotools) (3.10.1)\n",
            "Requirement already satisfied: numpy in ./env1/lib/python3.11/site-packages (from pycocotools) (2.2.3)\n",
            "Requirement already satisfied: contourpy>=1.0.1 in ./env1/lib/python3.11/site-packages (from matplotlib>=2.1.0->pycocotools) (1.3.1)\n",
            "Requirement already satisfied: cycler>=0.10 in ./env1/lib/python3.11/site-packages (from matplotlib>=2.1.0->pycocotools) (0.12.1)\n",
            "Requirement already satisfied: fonttools>=4.22.0 in ./env1/lib/python3.11/site-packages (from matplotlib>=2.1.0->pycocotools) (4.56.0)\n",
            "Requirement already satisfied: kiwisolver>=1.3.1 in ./env1/lib/python3.11/site-packages (from matplotlib>=2.1.0->pycocotools) (1.4.8)\n",
            "Requirement already satisfied: packaging>=20.0 in ./env1/lib/python3.11/site-packages (from matplotlib>=2.1.0->pycocotools) (24.2)\n",
            "Requirement already satisfied: pillow>=8 in ./env1/lib/python3.11/site-packages (from matplotlib>=2.1.0->pycocotools) (11.1.0)\n",
            "Requirement already satisfied: pyparsing>=2.3.1 in ./env1/lib/python3.11/site-packages (from matplotlib>=2.1.0->pycocotools) (3.2.1)\n",
            "Requirement already satisfied: python-dateutil>=2.7 in ./env1/lib/python3.11/site-packages (from matplotlib>=2.1.0->pycocotools) (2.9.0.post0)\n",
            "Requirement already satisfied: six>=1.5 in ./env1/lib/python3.11/site-packages (from python-dateutil>=2.7->matplotlib>=2.1.0->pycocotools) (1.17.0)\n",
            "Downloading pycocotools-2.0.8-cp311-cp311-manylinux_2_17_x86_64.manylinux2014_x86_64.whl (458 kB)\n",
            "Installing collected packages: pycocotools\n",
            "Successfully installed pycocotools-2.0.8\n"
          ]
        }
      ],
      "source": [
        "# !pip install pycocotools"
      ]
    },
    {
      "cell_type": "code",
      "execution_count": 29,
      "metadata": {
        "colab": {
          "base_uri": "https://localhost:8080/",
          "height": 374
        },
        "id": "mX_38m9n9_Mr",
        "outputId": "d559b60f-bf86-475d-d398-2c42aa4596d8"
      },
      "outputs": [
        {
          "name": "stdout",
          "output_type": "stream",
          "text": [
            " 100% |███████████████| 2650/2650 [14.9s elapsed, 0s remaining, 154.5 samples/s]      \n"
          ]
        }
      ],
      "source": [
        "# Create the dataset\n",
        "dataset = fo.Dataset.from_dir(\n",
        "    dataset_dir=dataset_dir,\n",
        "    dataset_type=fo.types.COCODetectionDataset,\n",
        "    data_path=\"./\",\n",
        "    labels_path=\"./_annotations.coco.json\",\n",
        "    name=name,\n",
        "    overwrite=True\n",
        ")"
      ]
    },
    {
      "cell_type": "code",
      "execution_count": 30,
      "metadata": {
        "id": "RK1wECC4Azc8"
      },
      "outputs": [
        {
          "name": "stdout",
          "output_type": "stream",
          "text": [
            "Name:        v1\n",
            "Media type:  image\n",
            "Num samples: 2650\n",
            "Persistent:  False\n",
            "Tags:        []\n",
            "Sample fields:\n",
            "    id:               fiftyone.core.fields.ObjectIdField\n",
            "    filepath:         fiftyone.core.fields.StringField\n",
            "    tags:             fiftyone.core.fields.ListField(fiftyone.core.fields.StringField)\n",
            "    metadata:         fiftyone.core.fields.EmbeddedDocumentField(fiftyone.core.metadata.ImageMetadata)\n",
            "    created_at:       fiftyone.core.fields.DateTimeField\n",
            "    last_modified_at: fiftyone.core.fields.DateTimeField\n",
            "    detections:       fiftyone.core.fields.EmbeddedDocumentField(fiftyone.core.labels.Detections)\n",
            "    segmentations:    fiftyone.core.fields.EmbeddedDocumentField(fiftyone.core.labels.Detections)\n"
          ]
        }
      ],
      "source": [
        "print(dataset)"
      ]
    },
    {
      "cell_type": "code",
      "execution_count": null,
      "metadata": {
        "id": "eeiKJEvnBTrk"
      },
      "outputs": [
        {
          "data": {
            "text/html": [
              "\n",
              "        <iframe\n",
              "            width=\"100%\"\n",
              "            height=\"800\"\n",
              "            src=\"http://localhost:5151/?notebook=True&subscription=847e4419-eb43-4e61-8df9-c0082ca89470\"\n",
              "            frameborder=\"0\"\n",
              "            allowfullscreen\n",
              "            \n",
              "        ></iframe>\n",
              "        "
            ],
            "text/plain": [
              "<IPython.lib.display.IFrame at 0x7c00dd77b850>"
            ]
          },
          "metadata": {},
          "output_type": "display_data"
        },
        {
          "name": "stdout",
          "output_type": "stream",
          "text": [
            "\n",
            "Welcome to\n",
            "\n",
            "███████╗██╗███████╗████████╗██╗   ██╗ ██████╗ ███╗   ██╗███████╗\n",
            "██╔════╝██║██╔════╝╚══██╔══╝╚██╗ ██╔╝██╔═══██╗████╗  ██║██╔════╝\n",
            "█████╗  ██║█████╗     ██║    ╚████╔╝ ██║   ██║██╔██╗ ██║█████╗\n",
            "██╔══╝  ██║██╔══╝     ██║     ╚██╔╝  ██║   ██║██║╚██╗██║██╔══╝\n",
            "██║     ██║██║        ██║      ██║   ╚██████╔╝██║ ╚████║███████╗\n",
            "╚═╝     ╚═╝╚═╝        ╚═╝      ╚═╝    ╚═════╝ ╚═╝  ╚═══╝╚══════╝ v1.3.1\n",
            "\n",
            "If you're finding FiftyOne helpful, here's how you can get involved:\n",
            "\n",
            "|\n",
            "|  ⭐⭐⭐ Give the project a star on GitHub ⭐⭐⭐\n",
            "|  https://github.com/voxel51/fiftyone\n",
            "|\n",
            "|  🚀🚀🚀 Join the FiftyOne Discord community 🚀🚀🚀\n",
            "|  https://community.voxel51.com/\n",
            "|\n",
            "\n"
          ]
        },
        {
          "name": "stdout",
          "output_type": "stream",
          "text": [
            "\n",
            "Could not connect session, trying again in 10 seconds\n",
            "\n",
            "\n",
            "Could not connect session, trying again in 10 seconds\n",
            "\n",
            "\n",
            "Could not connect session, trying again in 10 seconds\n",
            "\n",
            "\n",
            "Could not connect session, trying again in 10 seconds\n",
            "\n",
            "\n",
            "Could not connect session, trying again in 10 seconds\n",
            "\n",
            "\n",
            "Could not connect session, trying again in 10 seconds\n",
            "\n",
            "\n",
            "Could not connect session, trying again in 10 seconds\n",
            "\n",
            "\n",
            "Could not connect session, trying again in 10 seconds\n",
            "\n",
            "\n",
            "Could not connect session, trying again in 10 seconds\n",
            "\n",
            "\n",
            "Could not connect session, trying again in 10 seconds\n",
            "\n",
            "\n",
            "Could not connect session, trying again in 10 seconds\n",
            "\n",
            "\n",
            "Could not connect session, trying again in 10 seconds\n",
            "\n",
            "\n",
            "Could not connect session, trying again in 10 seconds\n",
            "\n"
          ]
        }
      ],
      "source": [
        "session = fo.launch_app(dataset)"
      ]
    },
    {
      "cell_type": "code",
      "execution_count": null,
      "metadata": {},
      "outputs": [
        {
          "name": "stdout",
          "output_type": "stream",
          "text": [
            "Collecting ultralytics>=8.1.0\n",
            "  Downloading ultralytics-8.3.86-py3-none-any.whl.metadata (35 kB)\n",
            "Collecting torch>=1.8\n",
            "  Downloading torch-2.6.0-cp311-cp311-manylinux1_x86_64.whl.metadata (28 kB)\n",
            "Collecting numpy<=2.1.1,>=1.23.0 (from ultralytics>=8.1.0)\n",
            "  Downloading numpy-2.1.1-cp311-cp311-manylinux_2_17_x86_64.manylinux2014_x86_64.whl.metadata (60 kB)\n",
            "Requirement already satisfied: matplotlib>=3.3.0 in ./env1/lib/python3.11/site-packages (from ultralytics>=8.1.0) (3.10.1)\n",
            "Collecting opencv-python>=4.6.0 (from ultralytics>=8.1.0)\n",
            "  Downloading opencv_python-4.11.0.86-cp37-abi3-manylinux_2_17_x86_64.manylinux2014_x86_64.whl.metadata (20 kB)\n",
            "Requirement already satisfied: pillow>=7.1.2 in ./env1/lib/python3.11/site-packages (from ultralytics>=8.1.0) (11.1.0)\n",
            "Requirement already satisfied: pyyaml>=5.3.1 in ./env1/lib/python3.11/site-packages (from ultralytics>=8.1.0) (6.0.2)\n",
            "Requirement already satisfied: requests>=2.23.0 in ./env1/lib/python3.11/site-packages (from ultralytics>=8.1.0) (2.32.3)\n",
            "Requirement already satisfied: scipy>=1.4.1 in ./env1/lib/python3.11/site-packages (from ultralytics>=8.1.0) (1.15.2)\n",
            "Collecting torchvision>=0.9.0 (from ultralytics>=8.1.0)\n",
            "  Downloading torchvision-0.21.0-cp311-cp311-manylinux1_x86_64.whl.metadata (6.1 kB)\n",
            "Requirement already satisfied: tqdm>=4.64.0 in ./env1/lib/python3.11/site-packages (from ultralytics>=8.1.0) (4.67.1)\n",
            "Requirement already satisfied: psutil in ./env1/lib/python3.11/site-packages (from ultralytics>=8.1.0) (7.0.0)\n",
            "Collecting py-cpuinfo (from ultralytics>=8.1.0)\n",
            "  Downloading py_cpuinfo-9.0.0-py3-none-any.whl.metadata (794 bytes)\n",
            "Requirement already satisfied: pandas>=1.1.4 in ./env1/lib/python3.11/site-packages (from ultralytics>=8.1.0) (2.2.3)\n",
            "Collecting seaborn>=0.11.0 (from ultralytics>=8.1.0)\n",
            "  Downloading seaborn-0.13.2-py3-none-any.whl.metadata (5.4 kB)\n",
            "Collecting ultralytics-thop>=2.0.0 (from ultralytics>=8.1.0)\n",
            "  Downloading ultralytics_thop-2.0.14-py3-none-any.whl.metadata (9.4 kB)\n",
            "Collecting filelock (from torch>=1.8)\n",
            "  Using cached filelock-3.17.0-py3-none-any.whl.metadata (2.9 kB)\n",
            "Requirement already satisfied: typing-extensions>=4.10.0 in ./env1/lib/python3.11/site-packages (from torch>=1.8) (4.12.2)\n",
            "Requirement already satisfied: networkx in ./env1/lib/python3.11/site-packages (from torch>=1.8) (3.4.2)\n",
            "Requirement already satisfied: jinja2 in ./env1/lib/python3.11/site-packages (from torch>=1.8) (3.1.6)\n",
            "Collecting fsspec (from torch>=1.8)\n",
            "  Downloading fsspec-2025.3.0-py3-none-any.whl.metadata (11 kB)\n",
            "Collecting nvidia-cuda-nvrtc-cu12==12.4.127 (from torch>=1.8)\n",
            "  Downloading nvidia_cuda_nvrtc_cu12-12.4.127-py3-none-manylinux2014_x86_64.whl.metadata (1.5 kB)\n",
            "Collecting nvidia-cuda-runtime-cu12==12.4.127 (from torch>=1.8)\n",
            "  Downloading nvidia_cuda_runtime_cu12-12.4.127-py3-none-manylinux2014_x86_64.whl.metadata (1.5 kB)\n",
            "Collecting nvidia-cuda-cupti-cu12==12.4.127 (from torch>=1.8)\n",
            "  Downloading nvidia_cuda_cupti_cu12-12.4.127-py3-none-manylinux2014_x86_64.whl.metadata (1.6 kB)\n",
            "Collecting nvidia-cudnn-cu12==9.1.0.70 (from torch>=1.8)\n",
            "  Downloading nvidia_cudnn_cu12-9.1.0.70-py3-none-manylinux2014_x86_64.whl.metadata (1.6 kB)\n",
            "Collecting nvidia-cublas-cu12==12.4.5.8 (from torch>=1.8)\n",
            "  Downloading nvidia_cublas_cu12-12.4.5.8-py3-none-manylinux2014_x86_64.whl.metadata (1.5 kB)\n",
            "Collecting nvidia-cufft-cu12==11.2.1.3 (from torch>=1.8)\n",
            "  Downloading nvidia_cufft_cu12-11.2.1.3-py3-none-manylinux2014_x86_64.whl.metadata (1.5 kB)\n",
            "Collecting nvidia-curand-cu12==10.3.5.147 (from torch>=1.8)\n",
            "  Downloading nvidia_curand_cu12-10.3.5.147-py3-none-manylinux2014_x86_64.whl.metadata (1.5 kB)\n",
            "Collecting nvidia-cusolver-cu12==11.6.1.9 (from torch>=1.8)\n",
            "  Downloading nvidia_cusolver_cu12-11.6.1.9-py3-none-manylinux2014_x86_64.whl.metadata (1.6 kB)\n",
            "Collecting nvidia-cusparse-cu12==12.3.1.170 (from torch>=1.8)\n",
            "  Downloading nvidia_cusparse_cu12-12.3.1.170-py3-none-manylinux2014_x86_64.whl.metadata (1.6 kB)\n",
            "Collecting nvidia-cusparselt-cu12==0.6.2 (from torch>=1.8)\n",
            "  Downloading nvidia_cusparselt_cu12-0.6.2-py3-none-manylinux2014_x86_64.whl.metadata (6.8 kB)\n",
            "Collecting nvidia-nccl-cu12==2.21.5 (from torch>=1.8)\n",
            "  Downloading nvidia_nccl_cu12-2.21.5-py3-none-manylinux2014_x86_64.whl.metadata (1.8 kB)\n",
            "Collecting nvidia-nvtx-cu12==12.4.127 (from torch>=1.8)\n",
            "  Downloading nvidia_nvtx_cu12-12.4.127-py3-none-manylinux2014_x86_64.whl.metadata (1.7 kB)\n",
            "Collecting nvidia-nvjitlink-cu12==12.4.127 (from torch>=1.8)\n",
            "  Downloading nvidia_nvjitlink_cu12-12.4.127-py3-none-manylinux2014_x86_64.whl.metadata (1.5 kB)\n",
            "Collecting triton==3.2.0 (from torch>=1.8)\n",
            "  Downloading triton-3.2.0-cp311-cp311-manylinux_2_17_x86_64.manylinux2014_x86_64.whl.metadata (1.4 kB)\n",
            "Collecting sympy==1.13.1 (from torch>=1.8)\n",
            "  Downloading sympy-1.13.1-py3-none-any.whl.metadata (12 kB)\n",
            "Collecting mpmath<1.4,>=1.1.0 (from sympy==1.13.1->torch>=1.8)\n",
            "  Downloading mpmath-1.3.0-py3-none-any.whl.metadata (8.6 kB)\n",
            "Requirement already satisfied: contourpy>=1.0.1 in ./env1/lib/python3.11/site-packages (from matplotlib>=3.3.0->ultralytics>=8.1.0) (1.3.1)\n",
            "Requirement already satisfied: cycler>=0.10 in ./env1/lib/python3.11/site-packages (from matplotlib>=3.3.0->ultralytics>=8.1.0) (0.12.1)\n",
            "Requirement already satisfied: fonttools>=4.22.0 in ./env1/lib/python3.11/site-packages (from matplotlib>=3.3.0->ultralytics>=8.1.0) (4.56.0)\n",
            "Requirement already satisfied: kiwisolver>=1.3.1 in ./env1/lib/python3.11/site-packages (from matplotlib>=3.3.0->ultralytics>=8.1.0) (1.4.8)\n",
            "Requirement already satisfied: packaging>=20.0 in ./env1/lib/python3.11/site-packages (from matplotlib>=3.3.0->ultralytics>=8.1.0) (24.2)\n",
            "Requirement already satisfied: pyparsing>=2.3.1 in ./env1/lib/python3.11/site-packages (from matplotlib>=3.3.0->ultralytics>=8.1.0) (3.2.1)\n",
            "Requirement already satisfied: python-dateutil>=2.7 in ./env1/lib/python3.11/site-packages (from matplotlib>=3.3.0->ultralytics>=8.1.0) (2.9.0.post0)\n",
            "Requirement already satisfied: pytz>=2020.1 in ./env1/lib/python3.11/site-packages (from pandas>=1.1.4->ultralytics>=8.1.0) (2025.1)\n",
            "Requirement already satisfied: tzdata>=2022.7 in ./env1/lib/python3.11/site-packages (from pandas>=1.1.4->ultralytics>=8.1.0) (2025.1)\n",
            "Requirement already satisfied: charset-normalizer<4,>=2 in ./env1/lib/python3.11/site-packages (from requests>=2.23.0->ultralytics>=8.1.0) (3.4.1)\n",
            "Requirement already satisfied: idna<4,>=2.5 in ./env1/lib/python3.11/site-packages (from requests>=2.23.0->ultralytics>=8.1.0) (3.7)\n",
            "Requirement already satisfied: urllib3<3,>=1.21.1 in ./env1/lib/python3.11/site-packages (from requests>=2.23.0->ultralytics>=8.1.0) (2.3.0)\n",
            "Requirement already satisfied: certifi>=2017.4.17 in ./env1/lib/python3.11/site-packages (from requests>=2.23.0->ultralytics>=8.1.0) (2025.1.31)\n",
            "Requirement already satisfied: MarkupSafe>=2.0 in ./env1/lib/python3.11/site-packages (from jinja2->torch>=1.8) (3.0.2)\n",
            "Requirement already satisfied: six>=1.5 in ./env1/lib/python3.11/site-packages (from python-dateutil>=2.7->matplotlib>=3.3.0->ultralytics>=8.1.0) (1.17.0)\n",
            "Downloading ultralytics-8.3.86-py3-none-any.whl (922 kB)\n",
            "\u001b[2K   \u001b[90m━━━━━━━━━━━━━━━━━━━━━━━━━━━━━━━━━━━━━━━━\u001b[0m \u001b[32m922.6/922.6 kB\u001b[0m \u001b[31m13.0 MB/s\u001b[0m eta \u001b[36m0:00:00\u001b[0m\n",
            "\u001b[?25hDownloading torch-2.6.0-cp311-cp311-manylinux1_x86_64.whl (766.7 MB)\n",
            "\u001b[2K   \u001b[90m━━━━━━━━━━━━━━━━━━━━━━━━━━━━━━━━━━━━━━━━\u001b[0m \u001b[32m766.7/766.7 MB\u001b[0m \u001b[31m13.7 MB/s\u001b[0m eta \u001b[36m0:00:00\u001b[0m00:01\u001b[0m00:01\u001b[0m\n",
            "\u001b[?25hDownloading nvidia_cublas_cu12-12.4.5.8-py3-none-manylinux2014_x86_64.whl (363.4 MB)\n",
            "\u001b[2K   \u001b[90m━━━━━━━━━━━━━━━━━━━━━━━━━━━━━━━━━━━━━━━━\u001b[0m \u001b[32m363.4/363.4 MB\u001b[0m \u001b[31m15.7 MB/s\u001b[0m eta \u001b[36m0:00:00\u001b[0m00:01\u001b[0m00:01\u001b[0m\n",
            "\u001b[?25hDownloading nvidia_cuda_cupti_cu12-12.4.127-py3-none-manylinux2014_x86_64.whl (13.8 MB)\n",
            "\u001b[2K   \u001b[90m━━━━━━━━━━━━━━━━━━━━━━━━━━━━━━━━━━━━━━━━\u001b[0m \u001b[32m13.8/13.8 MB\u001b[0m \u001b[31m21.6 MB/s\u001b[0m eta \u001b[36m0:00:00\u001b[0m00:01\u001b[0m00:01\u001b[0m\n",
            "\u001b[?25hDownloading nvidia_cuda_nvrtc_cu12-12.4.127-py3-none-manylinux2014_x86_64.whl (24.6 MB)\n",
            "\u001b[2K   \u001b[90m━━━━━━━━━━━━━━━━━━━━━━━━━━━━━━━━━━━━━━━━\u001b[0m \u001b[32m24.6/24.6 MB\u001b[0m \u001b[31m17.9 MB/s\u001b[0m eta \u001b[36m0:00:00\u001b[0m00:01\u001b[0m00:01\u001b[0m\n",
            "\u001b[?25hDownloading nvidia_cuda_runtime_cu12-12.4.127-py3-none-manylinux2014_x86_64.whl (883 kB)\n",
            "\u001b[2K   \u001b[90m━━━━━━━━━━━━━━━━━━━━━━━━━━━━━━━━━━━━━━━━\u001b[0m \u001b[32m883.7/883.7 kB\u001b[0m \u001b[31m11.7 MB/s\u001b[0m eta \u001b[36m0:00:00\u001b[0m\n",
            "\u001b[?25hDownloading nvidia_cudnn_cu12-9.1.0.70-py3-none-manylinux2014_x86_64.whl (664.8 MB)\n",
            "\u001b[2K   \u001b[90m━━━━━━━━━━━━━━━━━━━━━━━━━━━━━━━━━━━━━━━━\u001b[0m \u001b[32m664.8/664.8 MB\u001b[0m \u001b[31m14.8 MB/s\u001b[0m eta \u001b[36m0:00:00\u001b[0m00:01\u001b[0m00:01\u001b[0m\n",
            "\u001b[?25hDownloading nvidia_cufft_cu12-11.2.1.3-py3-none-manylinux2014_x86_64.whl (211.5 MB)\n",
            "\u001b[2K   \u001b[90m━━━━━━━━━━━━━━━━━━━━━━━━━━━━━━━━━━━━━━━━\u001b[0m \u001b[32m211.5/211.5 MB\u001b[0m \u001b[31m26.8 MB/s\u001b[0m eta \u001b[36m0:00:00\u001b[0m00:01\u001b[0m00:01\u001b[0m\n",
            "\u001b[?25hDownloading nvidia_curand_cu12-10.3.5.147-py3-none-manylinux2014_x86_64.whl (56.3 MB)\n",
            "\u001b[2K   \u001b[90m━━━━━━━━━━━━━━━━━━━━━━━━━━━━━━━━━━━━━━━━\u001b[0m \u001b[32m56.3/56.3 MB\u001b[0m \u001b[31m23.0 MB/s\u001b[0m eta \u001b[36m0:00:00\u001b[0m00:01\u001b[0m00:01\u001b[0m\n",
            "\u001b[?25hDownloading nvidia_cusolver_cu12-11.6.1.9-py3-none-manylinux2014_x86_64.whl (127.9 MB)\n",
            "\u001b[2K   \u001b[90m━━━━━━━━━━━━━━━━━━━━━━━━━━━━━━━━━━━━━━━━\u001b[0m \u001b[32m127.9/127.9 MB\u001b[0m \u001b[31m23.5 MB/s\u001b[0m eta \u001b[36m0:00:00\u001b[0m00:01\u001b[0m00:01\u001b[0m\n",
            "\u001b[?25hDownloading nvidia_cusparse_cu12-12.3.1.170-py3-none-manylinux2014_x86_64.whl (207.5 MB)\n",
            "\u001b[2K   \u001b[90m━━━━━━━━━━━━━━━━━━━━━━━━━━━━━━━━━━━━━━━━\u001b[0m \u001b[32m207.5/207.5 MB\u001b[0m \u001b[31m23.9 MB/s\u001b[0m eta \u001b[36m0:00:00\u001b[0m00:01\u001b[0m00:01\u001b[0m\n",
            "\u001b[?25hDownloading nvidia_cusparselt_cu12-0.6.2-py3-none-manylinux2014_x86_64.whl (150.1 MB)\n",
            "\u001b[2K   \u001b[90m━━━━━━━━━━━━━━━━━━━━━━━━━━━━━━━━━━━━━━━━\u001b[0m \u001b[32m150.1/150.1 MB\u001b[0m \u001b[31m20.1 MB/s\u001b[0m eta \u001b[36m0:00:00\u001b[0m00:01\u001b[0m00:01\u001b[0m\n",
            "\u001b[?25hDownloading nvidia_nccl_cu12-2.21.5-py3-none-manylinux2014_x86_64.whl (188.7 MB)\n",
            "\u001b[2K   \u001b[90m━━━━━━━━━━━━━━━━━━━━━━━━━━━━━━━━━━━━━━━━\u001b[0m \u001b[32m188.7/188.7 MB\u001b[0m \u001b[31m19.9 MB/s\u001b[0m eta \u001b[36m0:00:00\u001b[0m00:01\u001b[0m00:01\u001b[0m\n",
            "\u001b[?25hDownloading nvidia_nvjitlink_cu12-12.4.127-py3-none-manylinux2014_x86_64.whl (21.1 MB)\n",
            "\u001b[2K   \u001b[90m━━━━━━━━━━━━━━━━━━━━━━━━━━━━━━━━━━━━━━━━\u001b[0m \u001b[32m21.1/21.1 MB\u001b[0m \u001b[31m10.7 MB/s\u001b[0m eta \u001b[36m0:00:00\u001b[0m00:01\u001b[0m00:01\u001b[0m\n",
            "\u001b[?25hDownloading nvidia_nvtx_cu12-12.4.127-py3-none-manylinux2014_x86_64.whl (99 kB)\n",
            "Downloading sympy-1.13.1-py3-none-any.whl (6.2 MB)\n",
            "\u001b[2K   \u001b[90m━━━━━━━━━━━━━━━━━━━━━━━━━━━━━━━━━━━━━━━━\u001b[0m \u001b[32m6.2/6.2 MB\u001b[0m \u001b[31m14.6 MB/s\u001b[0m eta \u001b[36m0:00:00\u001b[0ma \u001b[36m0:00:01\u001b[0m\n",
            "\u001b[?25hDownloading triton-3.2.0-cp311-cp311-manylinux_2_17_x86_64.manylinux2014_x86_64.whl (253.2 MB)\n",
            "\u001b[2K   \u001b[90m━━━━━━━━━━━━━━━━━━━━━━━━━━━━━━━━━━━━━━━━\u001b[0m \u001b[32m253.2/253.2 MB\u001b[0m \u001b[31m14.7 MB/s\u001b[0m eta \u001b[36m0:00:00\u001b[0m00:01\u001b[0m00:01\u001b[0m\n",
            "\u001b[?25hDownloading numpy-2.1.1-cp311-cp311-manylinux_2_17_x86_64.manylinux2014_x86_64.whl (16.3 MB)\n",
            "\u001b[2K   \u001b[90m━━━━━━━━━━━━━━━━━━━━━━━━━━━━━━━━━━━━━━━━\u001b[0m \u001b[32m16.3/16.3 MB\u001b[0m \u001b[31m17.2 MB/s\u001b[0m eta \u001b[36m0:00:00\u001b[0m00:01\u001b[0m00:01\u001b[0m\n",
            "\u001b[?25hDownloading opencv_python-4.11.0.86-cp37-abi3-manylinux_2_17_x86_64.manylinux2014_x86_64.whl (63.0 MB)\n",
            "\u001b[2K   \u001b[90m━━━━━━━━━━━━━━━━━━━━━━━━━━━━━━━━━━━━━━━━\u001b[0m \u001b[32m63.0/63.0 MB\u001b[0m \u001b[31m18.8 MB/s\u001b[0m eta \u001b[36m0:00:00\u001b[0m00:01\u001b[0m00:01\u001b[0m\n",
            "\u001b[?25hDownloading seaborn-0.13.2-py3-none-any.whl (294 kB)\n",
            "Downloading torchvision-0.21.0-cp311-cp311-manylinux1_x86_64.whl (7.2 MB)\n",
            "\u001b[2K   \u001b[90m━━━━━━━━━━━━━━━━━━━━━━━━━━━━━━━━━━━━━━━━\u001b[0m \u001b[32m7.2/7.2 MB\u001b[0m \u001b[31m19.1 MB/s\u001b[0m eta \u001b[36m0:00:00\u001b[0ma \u001b[36m0:00:01\u001b[0m\n",
            "\u001b[?25hDownloading ultralytics_thop-2.0.14-py3-none-any.whl (26 kB)\n",
            "Using cached filelock-3.17.0-py3-none-any.whl (16 kB)\n",
            "Downloading fsspec-2025.3.0-py3-none-any.whl (193 kB)\n",
            "Downloading py_cpuinfo-9.0.0-py3-none-any.whl (22 kB)\n",
            "Downloading mpmath-1.3.0-py3-none-any.whl (536 kB)\n",
            "\u001b[2K   \u001b[90m━━━━━━━━━━━━━━━━━━━━━━━━━━━━━━━━━━━━━━━━\u001b[0m \u001b[32m536.2/536.2 kB\u001b[0m \u001b[31m8.3 MB/s\u001b[0m eta \u001b[36m0:00:00\u001b[0m\n",
            "\u001b[?25hInstalling collected packages: triton, py-cpuinfo, nvidia-cusparselt-cu12, mpmath, sympy, nvidia-nvtx-cu12, nvidia-nvjitlink-cu12, nvidia-nccl-cu12, nvidia-curand-cu12, nvidia-cufft-cu12, nvidia-cuda-runtime-cu12, nvidia-cuda-nvrtc-cu12, nvidia-cuda-cupti-cu12, nvidia-cublas-cu12, numpy, fsspec, filelock, opencv-python, nvidia-cusparse-cu12, nvidia-cudnn-cu12, nvidia-cusolver-cu12, torch, seaborn, ultralytics-thop, torchvision, ultralytics\n",
            "  Attempting uninstall: numpy\n",
            "    Found existing installation: numpy 2.2.3\n",
            "    Uninstalling numpy-2.2.3:\n",
            "      Successfully uninstalled numpy-2.2.3\n",
            "Successfully installed filelock-3.17.0 fsspec-2025.3.0 mpmath-1.3.0 numpy-2.1.1 nvidia-cublas-cu12-12.4.5.8 nvidia-cuda-cupti-cu12-12.4.127 nvidia-cuda-nvrtc-cu12-12.4.127 nvidia-cuda-runtime-cu12-12.4.127 nvidia-cudnn-cu12-9.1.0.70 nvidia-cufft-cu12-11.2.1.3 nvidia-curand-cu12-10.3.5.147 nvidia-cusolver-cu12-11.6.1.9 nvidia-cusparse-cu12-12.3.1.170 nvidia-cusparselt-cu12-0.6.2 nvidia-nccl-cu12-2.21.5 nvidia-nvjitlink-cu12-12.4.127 nvidia-nvtx-cu12-12.4.127 opencv-python-4.11.0.86 py-cpuinfo-9.0.0 seaborn-0.13.2 sympy-1.13.1 torch-2.6.0 torchvision-0.21.0 triton-3.2.0 ultralytics-8.3.86 ultralytics-thop-2.0.14\n",
            "Note: you may need to restart the kernel to use updated packages.\n"
          ]
        }
      ],
      "source": [
        "# %pip install \"ultralytics>=8.1.0\" \"torch>=1.8\"\n"
      ]
    },
    {
      "cell_type": "code",
      "execution_count": 34,
      "metadata": {},
      "outputs": [],
      "source": [
        "# Suppress Ultralytics logging\n",
        "import os; os.environ[\"YOLO_VERBOSE\"] = \"False\"\n",
        "\n",
        "import fiftyone as fo\n",
        "import fiftyone.zoo as foz\n",
        "import fiftyone.utils.ultralytics as fou\n",
        "\n",
        "from ultralytics import YOLO\n"
      ]
    },
    {
      "cell_type": "code",
      "execution_count": 39,
      "metadata": {},
      "outputs": [],
      "source": [
        "# Load an example dataset\n",
        "dataset.select_fields().keep_fields()"
      ]
    },
    {
      "cell_type": "code",
      "execution_count": 40,
      "metadata": {},
      "outputs": [
        {
          "name": "stderr",
          "output_type": "stream",
          "text": [
            "100%|██████████| 21.5M/21.5M [00:01<00:00, 19.3MB/s]\n"
          ]
        }
      ],
      "source": [
        "# YOLOv8\n",
        "model = YOLO(\"yolov8s.pt\")"
      ]
    },
    {
      "cell_type": "code",
      "execution_count": 41,
      "metadata": {},
      "outputs": [
        {
          "name": "stdout",
          "output_type": "stream",
          "text": [
            "   4% |\\--------------|  118/2650 [52.6s elapsed, 18.9m remaining, 2.0 samples/s]   \n"
          ]
        },
        {
          "ename": "KeyboardInterrupt",
          "evalue": "",
          "output_type": "error",
          "traceback": [
            "\u001b[31m---------------------------------------------------------------------------\u001b[39m",
            "\u001b[31mKeyboardInterrupt\u001b[39m                         Traceback (most recent call last)",
            "\u001b[36mCell\u001b[39m\u001b[36m \u001b[39m\u001b[32mIn[41]\u001b[39m\u001b[32m, line 1\u001b[39m\n\u001b[32m----> \u001b[39m\u001b[32m1\u001b[39m \u001b[43mdataset\u001b[49m\u001b[43m.\u001b[49m\u001b[43mapply_model\u001b[49m\u001b[43m(\u001b[49m\u001b[43mmodel\u001b[49m\u001b[43m,\u001b[49m\u001b[43m \u001b[49m\u001b[43mlabel_field\u001b[49m\u001b[43m=\u001b[49m\u001b[33;43m\"\u001b[39;49m\u001b[33;43mboxes\u001b[39;49m\u001b[33;43m\"\u001b[39;49m\u001b[43m)\u001b[49m\n",
            "\u001b[36mFile \u001b[39m\u001b[32m~/visualAI/prj/env1/lib/python3.11/site-packages/fiftyone/core/collections.py:3308\u001b[39m, in \u001b[36mSampleCollection.apply_model\u001b[39m\u001b[34m(self, model, label_field, confidence_thresh, store_logits, batch_size, num_workers, skip_failures, output_dir, rel_dir, progress, **kwargs)\u001b[39m\n\u001b[32m   3248\u001b[39m \u001b[38;5;28;01mdef\u001b[39;00m\u001b[38;5;250m \u001b[39m\u001b[34mapply_model\u001b[39m(\n\u001b[32m   3249\u001b[39m     \u001b[38;5;28mself\u001b[39m,\n\u001b[32m   3250\u001b[39m     model,\n\u001b[32m   (...)\u001b[39m\u001b[32m   3260\u001b[39m     **kwargs,\n\u001b[32m   3261\u001b[39m ):\n\u001b[32m   3262\u001b[39m \u001b[38;5;250m    \u001b[39m\u001b[33;03m\"\"\"Applies the model to the samples in the collection.\u001b[39;00m\n\u001b[32m   3263\u001b[39m \n\u001b[32m   3264\u001b[39m \u001b[33;03m    This method supports all of the following cases:\u001b[39;00m\n\u001b[32m   (...)\u001b[39m\u001b[32m   3306\u001b[39m \u001b[33;03m            to the underlying inference implementation\u001b[39;00m\n\u001b[32m   3307\u001b[39m \u001b[33;03m    \"\"\"\u001b[39;00m\n\u001b[32m-> \u001b[39m\u001b[32m3308\u001b[39m     \u001b[43mfomo\u001b[49m\u001b[43m.\u001b[49m\u001b[43mapply_model\u001b[49m\u001b[43m(\u001b[49m\n\u001b[32m   3309\u001b[39m \u001b[43m        \u001b[49m\u001b[38;5;28;43mself\u001b[39;49m\u001b[43m,\u001b[49m\n\u001b[32m   3310\u001b[39m \u001b[43m        \u001b[49m\u001b[43mmodel\u001b[49m\u001b[43m,\u001b[49m\n\u001b[32m   3311\u001b[39m \u001b[43m        \u001b[49m\u001b[43mlabel_field\u001b[49m\u001b[43m=\u001b[49m\u001b[43mlabel_field\u001b[49m\u001b[43m,\u001b[49m\n\u001b[32m   3312\u001b[39m \u001b[43m        \u001b[49m\u001b[43mconfidence_thresh\u001b[49m\u001b[43m=\u001b[49m\u001b[43mconfidence_thresh\u001b[49m\u001b[43m,\u001b[49m\n\u001b[32m   3313\u001b[39m \u001b[43m        \u001b[49m\u001b[43mstore_logits\u001b[49m\u001b[43m=\u001b[49m\u001b[43mstore_logits\u001b[49m\u001b[43m,\u001b[49m\n\u001b[32m   3314\u001b[39m \u001b[43m        \u001b[49m\u001b[43mbatch_size\u001b[49m\u001b[43m=\u001b[49m\u001b[43mbatch_size\u001b[49m\u001b[43m,\u001b[49m\n\u001b[32m   3315\u001b[39m \u001b[43m        \u001b[49m\u001b[43mnum_workers\u001b[49m\u001b[43m=\u001b[49m\u001b[43mnum_workers\u001b[49m\u001b[43m,\u001b[49m\n\u001b[32m   3316\u001b[39m \u001b[43m        \u001b[49m\u001b[43mskip_failures\u001b[49m\u001b[43m=\u001b[49m\u001b[43mskip_failures\u001b[49m\u001b[43m,\u001b[49m\n\u001b[32m   3317\u001b[39m \u001b[43m        \u001b[49m\u001b[43moutput_dir\u001b[49m\u001b[43m=\u001b[49m\u001b[43moutput_dir\u001b[49m\u001b[43m,\u001b[49m\n\u001b[32m   3318\u001b[39m \u001b[43m        \u001b[49m\u001b[43mrel_dir\u001b[49m\u001b[43m=\u001b[49m\u001b[43mrel_dir\u001b[49m\u001b[43m,\u001b[49m\n\u001b[32m   3319\u001b[39m \u001b[43m        \u001b[49m\u001b[43mprogress\u001b[49m\u001b[43m=\u001b[49m\u001b[43mprogress\u001b[49m\u001b[43m,\u001b[49m\n\u001b[32m   3320\u001b[39m \u001b[43m        \u001b[49m\u001b[43m*\u001b[49m\u001b[43m*\u001b[49m\u001b[43mkwargs\u001b[49m\u001b[43m,\u001b[49m\n\u001b[32m   3321\u001b[39m \u001b[43m    \u001b[49m\u001b[43m)\u001b[49m\n",
            "\u001b[36mFile \u001b[39m\u001b[32m~/visualAI/prj/env1/lib/python3.11/site-packages/fiftyone/core/models.py:267\u001b[39m, in \u001b[36mapply_model\u001b[39m\u001b[34m(samples, model, label_field, confidence_thresh, store_logits, batch_size, num_workers, skip_failures, output_dir, rel_dir, progress, **kwargs)\u001b[39m\n\u001b[32m    255\u001b[39m \u001b[38;5;28;01mif\u001b[39;00m batch_size \u001b[38;5;129;01mis\u001b[39;00m \u001b[38;5;129;01mnot\u001b[39;00m \u001b[38;5;28;01mNone\u001b[39;00m:\n\u001b[32m    256\u001b[39m     \u001b[38;5;28;01mreturn\u001b[39;00m _apply_image_model_batch(\n\u001b[32m    257\u001b[39m         samples,\n\u001b[32m    258\u001b[39m         model,\n\u001b[32m   (...)\u001b[39m\u001b[32m    264\u001b[39m         progress,\n\u001b[32m    265\u001b[39m     )\n\u001b[32m--> \u001b[39m\u001b[32m267\u001b[39m \u001b[38;5;28;01mreturn\u001b[39;00m \u001b[43m_apply_image_model_single\u001b[49m\u001b[43m(\u001b[49m\n\u001b[32m    268\u001b[39m \u001b[43m    \u001b[49m\u001b[43msamples\u001b[49m\u001b[43m,\u001b[49m\n\u001b[32m    269\u001b[39m \u001b[43m    \u001b[49m\u001b[43mmodel\u001b[49m\u001b[43m,\u001b[49m\n\u001b[32m    270\u001b[39m \u001b[43m    \u001b[49m\u001b[43mlabel_field\u001b[49m\u001b[43m,\u001b[49m\n\u001b[32m    271\u001b[39m \u001b[43m    \u001b[49m\u001b[43mconfidence_thresh\u001b[49m\u001b[43m,\u001b[49m\n\u001b[32m    272\u001b[39m \u001b[43m    \u001b[49m\u001b[43mskip_failures\u001b[49m\u001b[43m,\u001b[49m\n\u001b[32m    273\u001b[39m \u001b[43m    \u001b[49m\u001b[43mfilename_maker\u001b[49m\u001b[43m,\u001b[49m\n\u001b[32m    274\u001b[39m \u001b[43m    \u001b[49m\u001b[43mprogress\u001b[49m\u001b[43m,\u001b[49m\n\u001b[32m    275\u001b[39m \u001b[43m\u001b[49m\u001b[43m)\u001b[49m\n",
            "\u001b[36mFile \u001b[39m\u001b[32m~/visualAI/prj/env1/lib/python3.11/site-packages/fiftyone/core/models.py:328\u001b[39m, in \u001b[36m_apply_image_model_single\u001b[39m\u001b[34m(samples, model, label_field, confidence_thresh, skip_failures, filename_maker, progress)\u001b[39m\n\u001b[32m    326\u001b[39m \u001b[38;5;28;01mfor\u001b[39;00m sample \u001b[38;5;129;01min\u001b[39;00m pb(samples):\n\u001b[32m    327\u001b[39m     \u001b[38;5;28;01mtry\u001b[39;00m:\n\u001b[32m--> \u001b[39m\u001b[32m328\u001b[39m         img = \u001b[43mfoui\u001b[49m\u001b[43m.\u001b[49m\u001b[43mread\u001b[49m\u001b[43m(\u001b[49m\u001b[43msample\u001b[49m\u001b[43m.\u001b[49m\u001b[43mfilepath\u001b[49m\u001b[43m)\u001b[49m\n\u001b[32m    330\u001b[39m         \u001b[38;5;28;01mif\u001b[39;00m needs_samples:\n\u001b[32m    331\u001b[39m             labels = model.predict(img, sample=sample)\n",
            "\u001b[36mFile \u001b[39m\u001b[32m~/visualAI/prj/env1/lib/python3.11/site-packages/fiftyone/utils/image.py:37\u001b[39m, in \u001b[36mread\u001b[39m\u001b[34m(path_or_url, include_alpha, flag)\u001b[39m\n\u001b[32m     22\u001b[39m \u001b[38;5;28;01mdef\u001b[39;00m\u001b[38;5;250m \u001b[39m\u001b[34mread\u001b[39m(path_or_url, include_alpha=\u001b[38;5;28;01mFalse\u001b[39;00m, flag=\u001b[38;5;28;01mNone\u001b[39;00m):\n\u001b[32m     23\u001b[39m \u001b[38;5;250m    \u001b[39m\u001b[33;03m\"\"\"Reads the image from the given path as a numpy array.\u001b[39;00m\n\u001b[32m     24\u001b[39m \n\u001b[32m     25\u001b[39m \u001b[33;03m    Color images are returned as RGB arrays.\u001b[39;00m\n\u001b[32m   (...)\u001b[39m\u001b[32m     35\u001b[39m \u001b[33;03m        a uint8 numpy array containing the image\u001b[39;00m\n\u001b[32m     36\u001b[39m \u001b[33;03m    \"\"\"\u001b[39;00m\n\u001b[32m---> \u001b[39m\u001b[32m37\u001b[39m     \u001b[38;5;28;01mreturn\u001b[39;00m \u001b[43metai\u001b[49m\u001b[43m.\u001b[49m\u001b[43mread\u001b[49m\u001b[43m(\u001b[49m\u001b[43mpath_or_url\u001b[49m\u001b[43m,\u001b[49m\u001b[43m \u001b[49m\u001b[43minclude_alpha\u001b[49m\u001b[43m=\u001b[49m\u001b[43minclude_alpha\u001b[49m\u001b[43m,\u001b[49m\u001b[43m \u001b[49m\u001b[43mflag\u001b[49m\u001b[43m=\u001b[49m\u001b[43mflag\u001b[49m\u001b[43m)\u001b[49m\n",
            "\u001b[36mFile \u001b[39m\u001b[32m~/visualAI/prj/env1/lib/python3.11/site-packages/eta/core/image.py:479\u001b[39m, in \u001b[36mread\u001b[39m\u001b[34m(path_or_url, include_alpha, flag)\u001b[39m\n\u001b[32m    476\u001b[39m     \u001b[38;5;28;01mreturn\u001b[39;00m download(path_or_url, include_alpha=include_alpha, flag=flag)\n\u001b[32m    478\u001b[39m flag = _get_opencv_imread_flag(flag, include_alpha)\n\u001b[32m--> \u001b[39m\u001b[32m479\u001b[39m img_bgr = \u001b[43mcv2\u001b[49m\u001b[43m.\u001b[49m\u001b[43mimread\u001b[49m\u001b[43m(\u001b[49m\u001b[43mpath_or_url\u001b[49m\u001b[43m,\u001b[49m\u001b[43m \u001b[49m\u001b[43mflag\u001b[49m\u001b[43m)\u001b[49m\n\u001b[32m    480\u001b[39m \u001b[38;5;28;01mif\u001b[39;00m img_bgr \u001b[38;5;129;01mis\u001b[39;00m \u001b[38;5;28;01mNone\u001b[39;00m:\n\u001b[32m    481\u001b[39m     \u001b[38;5;28;01mraise\u001b[39;00m \u001b[38;5;167;01mOSError\u001b[39;00m(\u001b[33m\"\u001b[39m\u001b[33mImage not found \u001b[39m\u001b[33m'\u001b[39m\u001b[38;5;132;01m%s\u001b[39;00m\u001b[33m'\u001b[39m\u001b[33m\"\u001b[39m % path_or_url)\n",
            "\u001b[31mKeyboardInterrupt\u001b[39m: "
          ]
        }
      ],
      "source": [
        "dataset.apply_model(model, label_field=\"boxes\")"
      ]
    },
    {
      "cell_type": "code",
      "execution_count": null,
      "metadata": {},
      "outputs": [],
      "source": [
        "model_name = \"yolov5l-coco-torch\""
      ]
    }
  ],
  "metadata": {
    "colab": {
      "provenance": []
    },
    "kernelspec": {
      "display_name": "env1",
      "language": "python",
      "name": "python3"
    },
    "language_info": {
      "codemirror_mode": {
        "name": "ipython",
        "version": 3
      },
      "file_extension": ".py",
      "mimetype": "text/x-python",
      "name": "python",
      "nbconvert_exporter": "python",
      "pygments_lexer": "ipython3",
      "version": "3.11.11"
    }
  },
  "nbformat": 4,
  "nbformat_minor": 0
}
